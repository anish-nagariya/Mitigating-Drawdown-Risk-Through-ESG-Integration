{
 "cells": [
  {
   "cell_type": "markdown",
   "id": "8b15e59f-93c6-4e2b-bc6e-3ca74bc18d1b",
   "metadata": {},
   "source": [
    "## Histograms & Counts\n",
    "2024-08-22\n",
    "\n",
    "Histograms and counts of ESG data"
   ]
  },
  {
   "cell_type": "code",
   "execution_count": 28,
   "id": "9497e6ff-7f6f-4873-bda4-f91ddd00228c",
   "metadata": {},
   "outputs": [],
   "source": [
    "from plotly.subplots import make_subplots\n",
    "import plotly.graph_objects as go\n",
    "import plotly.express as px\n",
    "import matplotlib.pyplot as plt\n",
    "import seaborn\n",
    "import investpy"
   ]
  },
  {
   "cell_type": "code",
   "execution_count": 31,
   "id": "1618d74a-1e82-4d18-8cb7-de9e93df8093",
   "metadata": {},
   "outputs": [
    {
     "name": "stdout",
     "output_type": "stream",
     "text": [
      "\n",
      "SPX Analysis\n",
      "\n"
     ]
    },
    {
     "data": {
      "application/vnd.jupyter.widget-view+json": {
       "model_id": "8d80086067c34df5881cfd8e00e85f8c",
       "version_major": 2,
       "version_minor": 0
      },
      "text/plain": [
       "  0%|          | 0/505 [00:00<?, ?it/s]"
      ]
     },
     "metadata": {},
     "output_type": "display_data"
    },
    {
     "name": "stdout",
     "output_type": "stream",
     "text": [
      "\n",
      "\n",
      "ESG scores for equities distribution on 2022-03-16:\n"
     ]
    },
    {
     "data": {
      "application/vnd.plotly.v1+json": {
       "config": {
        "plotlyServerURL": "https://plot.ly"
       },
       "data": [
        {
         "nbinsx": 90,
         "opacity": 0.7,
         "type": "histogram",
         "x": [
          22.399338212683347,
          33.539773278358815,
          33.9607636299898,
          38.48338222413208,
          38.830475518720874,
          39.761015497901795,
          39.798954967839315,
          39.92170568922984,
          40.29477486533833,
          42.98438136933267,
          43.59197209069418,
          45.145316441285885,
          45.46740762560117,
          46.13352137682145,
          46.32976281548797,
          46.86282350168159,
          47.73613783483211,
          48.47083018471406,
          48.48913080269118,
          49.14907216642079,
          57.34524926925852,
          60.30061174528433,
          63.085437126135425
         ]
        }
       ],
       "layout": {
        "autosize": true,
        "font": {
         "size": 10
        },
        "template": {
         "data": {
          "bar": [
           {
            "error_x": {
             "color": "#f2f5fa"
            },
            "error_y": {
             "color": "#f2f5fa"
            },
            "marker": {
             "line": {
              "color": "rgb(17,17,17)",
              "width": 0.5
             },
             "pattern": {
              "fillmode": "overlay",
              "size": 10,
              "solidity": 0.2
             }
            },
            "type": "bar"
           }
          ],
          "barpolar": [
           {
            "marker": {
             "line": {
              "color": "rgb(17,17,17)",
              "width": 0.5
             },
             "pattern": {
              "fillmode": "overlay",
              "size": 10,
              "solidity": 0.2
             }
            },
            "type": "barpolar"
           }
          ],
          "carpet": [
           {
            "aaxis": {
             "endlinecolor": "#A2B1C6",
             "gridcolor": "#506784",
             "linecolor": "#506784",
             "minorgridcolor": "#506784",
             "startlinecolor": "#A2B1C6"
            },
            "baxis": {
             "endlinecolor": "#A2B1C6",
             "gridcolor": "#506784",
             "linecolor": "#506784",
             "minorgridcolor": "#506784",
             "startlinecolor": "#A2B1C6"
            },
            "type": "carpet"
           }
          ],
          "choropleth": [
           {
            "colorbar": {
             "outlinewidth": 0,
             "ticks": ""
            },
            "type": "choropleth"
           }
          ],
          "contour": [
           {
            "colorbar": {
             "outlinewidth": 0,
             "ticks": ""
            },
            "colorscale": [
             [
              0,
              "#0d0887"
             ],
             [
              0.1111111111111111,
              "#46039f"
             ],
             [
              0.2222222222222222,
              "#7201a8"
             ],
             [
              0.3333333333333333,
              "#9c179e"
             ],
             [
              0.4444444444444444,
              "#bd3786"
             ],
             [
              0.5555555555555556,
              "#d8576b"
             ],
             [
              0.6666666666666666,
              "#ed7953"
             ],
             [
              0.7777777777777778,
              "#fb9f3a"
             ],
             [
              0.8888888888888888,
              "#fdca26"
             ],
             [
              1,
              "#f0f921"
             ]
            ],
            "type": "contour"
           }
          ],
          "contourcarpet": [
           {
            "colorbar": {
             "outlinewidth": 0,
             "ticks": ""
            },
            "type": "contourcarpet"
           }
          ],
          "heatmap": [
           {
            "colorbar": {
             "outlinewidth": 0,
             "ticks": ""
            },
            "colorscale": [
             [
              0,
              "#0d0887"
             ],
             [
              0.1111111111111111,
              "#46039f"
             ],
             [
              0.2222222222222222,
              "#7201a8"
             ],
             [
              0.3333333333333333,
              "#9c179e"
             ],
             [
              0.4444444444444444,
              "#bd3786"
             ],
             [
              0.5555555555555556,
              "#d8576b"
             ],
             [
              0.6666666666666666,
              "#ed7953"
             ],
             [
              0.7777777777777778,
              "#fb9f3a"
             ],
             [
              0.8888888888888888,
              "#fdca26"
             ],
             [
              1,
              "#f0f921"
             ]
            ],
            "type": "heatmap"
           }
          ],
          "heatmapgl": [
           {
            "colorbar": {
             "outlinewidth": 0,
             "ticks": ""
            },
            "colorscale": [
             [
              0,
              "#0d0887"
             ],
             [
              0.1111111111111111,
              "#46039f"
             ],
             [
              0.2222222222222222,
              "#7201a8"
             ],
             [
              0.3333333333333333,
              "#9c179e"
             ],
             [
              0.4444444444444444,
              "#bd3786"
             ],
             [
              0.5555555555555556,
              "#d8576b"
             ],
             [
              0.6666666666666666,
              "#ed7953"
             ],
             [
              0.7777777777777778,
              "#fb9f3a"
             ],
             [
              0.8888888888888888,
              "#fdca26"
             ],
             [
              1,
              "#f0f921"
             ]
            ],
            "type": "heatmapgl"
           }
          ],
          "histogram": [
           {
            "marker": {
             "pattern": {
              "fillmode": "overlay",
              "size": 10,
              "solidity": 0.2
             }
            },
            "type": "histogram"
           }
          ],
          "histogram2d": [
           {
            "colorbar": {
             "outlinewidth": 0,
             "ticks": ""
            },
            "colorscale": [
             [
              0,
              "#0d0887"
             ],
             [
              0.1111111111111111,
              "#46039f"
             ],
             [
              0.2222222222222222,
              "#7201a8"
             ],
             [
              0.3333333333333333,
              "#9c179e"
             ],
             [
              0.4444444444444444,
              "#bd3786"
             ],
             [
              0.5555555555555556,
              "#d8576b"
             ],
             [
              0.6666666666666666,
              "#ed7953"
             ],
             [
              0.7777777777777778,
              "#fb9f3a"
             ],
             [
              0.8888888888888888,
              "#fdca26"
             ],
             [
              1,
              "#f0f921"
             ]
            ],
            "type": "histogram2d"
           }
          ],
          "histogram2dcontour": [
           {
            "colorbar": {
             "outlinewidth": 0,
             "ticks": ""
            },
            "colorscale": [
             [
              0,
              "#0d0887"
             ],
             [
              0.1111111111111111,
              "#46039f"
             ],
             [
              0.2222222222222222,
              "#7201a8"
             ],
             [
              0.3333333333333333,
              "#9c179e"
             ],
             [
              0.4444444444444444,
              "#bd3786"
             ],
             [
              0.5555555555555556,
              "#d8576b"
             ],
             [
              0.6666666666666666,
              "#ed7953"
             ],
             [
              0.7777777777777778,
              "#fb9f3a"
             ],
             [
              0.8888888888888888,
              "#fdca26"
             ],
             [
              1,
              "#f0f921"
             ]
            ],
            "type": "histogram2dcontour"
           }
          ],
          "mesh3d": [
           {
            "colorbar": {
             "outlinewidth": 0,
             "ticks": ""
            },
            "type": "mesh3d"
           }
          ],
          "parcoords": [
           {
            "line": {
             "colorbar": {
              "outlinewidth": 0,
              "ticks": ""
             }
            },
            "type": "parcoords"
           }
          ],
          "pie": [
           {
            "automargin": true,
            "type": "pie"
           }
          ],
          "scatter": [
           {
            "marker": {
             "line": {
              "color": "#283442"
             }
            },
            "type": "scatter"
           }
          ],
          "scatter3d": [
           {
            "line": {
             "colorbar": {
              "outlinewidth": 0,
              "ticks": ""
             }
            },
            "marker": {
             "colorbar": {
              "outlinewidth": 0,
              "ticks": ""
             }
            },
            "type": "scatter3d"
           }
          ],
          "scattercarpet": [
           {
            "marker": {
             "colorbar": {
              "outlinewidth": 0,
              "ticks": ""
             }
            },
            "type": "scattercarpet"
           }
          ],
          "scattergeo": [
           {
            "marker": {
             "colorbar": {
              "outlinewidth": 0,
              "ticks": ""
             }
            },
            "type": "scattergeo"
           }
          ],
          "scattergl": [
           {
            "marker": {
             "line": {
              "color": "#283442"
             }
            },
            "type": "scattergl"
           }
          ],
          "scattermapbox": [
           {
            "marker": {
             "colorbar": {
              "outlinewidth": 0,
              "ticks": ""
             }
            },
            "type": "scattermapbox"
           }
          ],
          "scatterpolar": [
           {
            "marker": {
             "colorbar": {
              "outlinewidth": 0,
              "ticks": ""
             }
            },
            "type": "scatterpolar"
           }
          ],
          "scatterpolargl": [
           {
            "marker": {
             "colorbar": {
              "outlinewidth": 0,
              "ticks": ""
             }
            },
            "type": "scatterpolargl"
           }
          ],
          "scatterternary": [
           {
            "marker": {
             "colorbar": {
              "outlinewidth": 0,
              "ticks": ""
             }
            },
            "type": "scatterternary"
           }
          ],
          "surface": [
           {
            "colorbar": {
             "outlinewidth": 0,
             "ticks": ""
            },
            "colorscale": [
             [
              0,
              "#0d0887"
             ],
             [
              0.1111111111111111,
              "#46039f"
             ],
             [
              0.2222222222222222,
              "#7201a8"
             ],
             [
              0.3333333333333333,
              "#9c179e"
             ],
             [
              0.4444444444444444,
              "#bd3786"
             ],
             [
              0.5555555555555556,
              "#d8576b"
             ],
             [
              0.6666666666666666,
              "#ed7953"
             ],
             [
              0.7777777777777778,
              "#fb9f3a"
             ],
             [
              0.8888888888888888,
              "#fdca26"
             ],
             [
              1,
              "#f0f921"
             ]
            ],
            "type": "surface"
           }
          ],
          "table": [
           {
            "cells": {
             "fill": {
              "color": "#506784"
             },
             "line": {
              "color": "rgb(17,17,17)"
             }
            },
            "header": {
             "fill": {
              "color": "#2a3f5f"
             },
             "line": {
              "color": "rgb(17,17,17)"
             }
            },
            "type": "table"
           }
          ]
         },
         "layout": {
          "annotationdefaults": {
           "arrowcolor": "#f2f5fa",
           "arrowhead": 0,
           "arrowwidth": 1
          },
          "autotypenumbers": "strict",
          "coloraxis": {
           "colorbar": {
            "outlinewidth": 0,
            "ticks": ""
           }
          },
          "colorscale": {
           "diverging": [
            [
             0,
             "#8e0152"
            ],
            [
             0.1,
             "#c51b7d"
            ],
            [
             0.2,
             "#de77ae"
            ],
            [
             0.3,
             "#f1b6da"
            ],
            [
             0.4,
             "#fde0ef"
            ],
            [
             0.5,
             "#f7f7f7"
            ],
            [
             0.6,
             "#e6f5d0"
            ],
            [
             0.7,
             "#b8e186"
            ],
            [
             0.8,
             "#7fbc41"
            ],
            [
             0.9,
             "#4d9221"
            ],
            [
             1,
             "#276419"
            ]
           ],
           "sequential": [
            [
             0,
             "#0d0887"
            ],
            [
             0.1111111111111111,
             "#46039f"
            ],
            [
             0.2222222222222222,
             "#7201a8"
            ],
            [
             0.3333333333333333,
             "#9c179e"
            ],
            [
             0.4444444444444444,
             "#bd3786"
            ],
            [
             0.5555555555555556,
             "#d8576b"
            ],
            [
             0.6666666666666666,
             "#ed7953"
            ],
            [
             0.7777777777777778,
             "#fb9f3a"
            ],
            [
             0.8888888888888888,
             "#fdca26"
            ],
            [
             1,
             "#f0f921"
            ]
           ],
           "sequentialminus": [
            [
             0,
             "#0d0887"
            ],
            [
             0.1111111111111111,
             "#46039f"
            ],
            [
             0.2222222222222222,
             "#7201a8"
            ],
            [
             0.3333333333333333,
             "#9c179e"
            ],
            [
             0.4444444444444444,
             "#bd3786"
            ],
            [
             0.5555555555555556,
             "#d8576b"
            ],
            [
             0.6666666666666666,
             "#ed7953"
            ],
            [
             0.7777777777777778,
             "#fb9f3a"
            ],
            [
             0.8888888888888888,
             "#fdca26"
            ],
            [
             1,
             "#f0f921"
            ]
           ]
          },
          "colorway": [
           "#636efa",
           "#EF553B",
           "#00cc96",
           "#ab63fa",
           "#FFA15A",
           "#19d3f3",
           "#FF6692",
           "#B6E880",
           "#FF97FF",
           "#FECB52"
          ],
          "font": {
           "color": "#f2f5fa"
          },
          "geo": {
           "bgcolor": "rgb(17,17,17)",
           "lakecolor": "rgb(17,17,17)",
           "landcolor": "rgb(17,17,17)",
           "showlakes": true,
           "showland": true,
           "subunitcolor": "#506784"
          },
          "hoverlabel": {
           "align": "left"
          },
          "hovermode": "closest",
          "mapbox": {
           "style": "dark"
          },
          "paper_bgcolor": "rgb(17,17,17)",
          "plot_bgcolor": "rgb(17,17,17)",
          "polar": {
           "angularaxis": {
            "gridcolor": "#506784",
            "linecolor": "#506784",
            "ticks": ""
           },
           "bgcolor": "rgb(17,17,17)",
           "radialaxis": {
            "gridcolor": "#506784",
            "linecolor": "#506784",
            "ticks": ""
           }
          },
          "scene": {
           "xaxis": {
            "backgroundcolor": "rgb(17,17,17)",
            "gridcolor": "#506784",
            "gridwidth": 2,
            "linecolor": "#506784",
            "showbackground": true,
            "ticks": "",
            "zerolinecolor": "#C8D4E3"
           },
           "yaxis": {
            "backgroundcolor": "rgb(17,17,17)",
            "gridcolor": "#506784",
            "gridwidth": 2,
            "linecolor": "#506784",
            "showbackground": true,
            "ticks": "",
            "zerolinecolor": "#C8D4E3"
           },
           "zaxis": {
            "backgroundcolor": "rgb(17,17,17)",
            "gridcolor": "#506784",
            "gridwidth": 2,
            "linecolor": "#506784",
            "showbackground": true,
            "ticks": "",
            "zerolinecolor": "#C8D4E3"
           }
          },
          "shapedefaults": {
           "line": {
            "color": "#f2f5fa"
           }
          },
          "sliderdefaults": {
           "bgcolor": "#C8D4E3",
           "bordercolor": "rgb(17,17,17)",
           "borderwidth": 1,
           "tickwidth": 0
          },
          "ternary": {
           "aaxis": {
            "gridcolor": "#506784",
            "linecolor": "#506784",
            "ticks": ""
           },
           "baxis": {
            "gridcolor": "#506784",
            "linecolor": "#506784",
            "ticks": ""
           },
           "bgcolor": "rgb(17,17,17)",
           "caxis": {
            "gridcolor": "#506784",
            "linecolor": "#506784",
            "ticks": ""
           }
          },
          "title": {
           "x": 0.05
          },
          "updatemenudefaults": {
           "bgcolor": "#506784",
           "borderwidth": 0
          },
          "xaxis": {
           "automargin": true,
           "gridcolor": "#283442",
           "linecolor": "#506784",
           "ticks": "",
           "title": {
            "standoff": 15
           },
           "zerolinecolor": "#283442",
           "zerolinewidth": 2
          },
          "yaxis": {
           "automargin": true,
           "gridcolor": "#283442",
           "linecolor": "#506784",
           "ticks": "",
           "title": {
            "standoff": 15
           },
           "zerolinecolor": "#283442",
           "zerolinewidth": 2
          }
         }
        },
        "xaxis": {
         "autorange": true,
         "range": [
          22,
          63.5
         ],
         "title": {
          "text": "ESG Score"
         },
         "type": "linear"
        },
        "yaxis": {
         "autorange": true,
         "range": [
          0,
          3.1578947368421053
         ],
         "title": {
          "text": "Frequency"
         }
        }
       }
      },
      "image/png": "[encoded data removed]",
      "text/html": [
       "<div>                            <div id=\"71e75e5a-69d5-4e91-a980-9f2a103c02ed\" class=\"plotly-graph-div\" style=\"height:525px; width:100%;\"></div>            <script type=\"text/javascript\">                require([\"plotly\"], function(Plotly) {                    window.PLOTLYENV=window.PLOTLYENV || {};                                    if (document.getElementById(\"71e75e5a-69d5-4e91-a980-9f2a103c02ed\")) {                    Plotly.newPlot(                        \"71e75e5a-69d5-4e91-a980-9f2a103c02ed\",                        [{\"nbinsx\":90,\"opacity\":0.7,\"x\":[22.399338212683347,33.539773278358815,33.9607636299898,38.48338222413208,38.830475518720874,39.761015497901795,39.798954967839315,39.92170568922984,40.29477486533833,42.98438136933267,43.59197209069418,45.145316441285885,45.46740762560117,46.13352137682145,46.32976281548797,46.86282350168159,47.73613783483211,48.47083018471406,48.48913080269118,49.14907216642079,57.34524926925852,60.30061174528433,63.085437126135425],\"type\":\"histogram\"}],                        {\"template\":{\"data\":{\"barpolar\":[{\"marker\":{\"line\":{\"color\":\"rgb(17,17,17)\",\"width\":0.5},\"pattern\":{\"fillmode\":\"overlay\",\"size\":10,\"solidity\":0.2}},\"type\":\"barpolar\"}],\"bar\":[{\"error_x\":{\"color\":\"#f2f5fa\"},\"error_y\":{\"color\":\"#f2f5fa\"},\"marker\":{\"line\":{\"color\":\"rgb(17,17,17)\",\"width\":0.5},\"pattern\":{\"fillmode\":\"overlay\",\"size\":10,\"solidity\":0.2}},\"type\":\"bar\"}],\"carpet\":[{\"aaxis\":{\"endlinecolor\":\"#A2B1C6\",\"gridcolor\":\"#506784\",\"linecolor\":\"#506784\",\"minorgridcolor\":\"#506784\",\"startlinecolor\":\"#A2B1C6\"},\"baxis\":{\"endlinecolor\":\"#A2B1C6\",\"gridcolor\":\"#506784\",\"linecolor\":\"#506784\",\"minorgridcolor\":\"#506784\",\"startlinecolor\":\"#A2B1C6\"},\"type\":\"carpet\"}],\"choropleth\":[{\"colorbar\":{\"outlinewidth\":0,\"ticks\":\"\"},\"type\":\"choropleth\"}],\"contourcarpet\":[{\"colorbar\":{\"outlinewidth\":0,\"ticks\":\"\"},\"type\":\"contourcarpet\"}],\"contour\":[{\"colorbar\":{\"outlinewidth\":0,\"ticks\":\"\"},\"colorscale\":[[0.0,\"#0d0887\"],[0.1111111111111111,\"#46039f\"],[0.2222222222222222,\"#7201a8\"],[0.3333333333333333,\"#9c179e\"],[0.4444444444444444,\"#bd3786\"],[0.5555555555555556,\"#d8576b\"],[0.6666666666666666,\"#ed7953\"],[0.7777777777777778,\"#fb9f3a\"],[0.8888888888888888,\"#fdca26\"],[1.0,\"#f0f921\"]],\"type\":\"contour\"}],\"heatmapgl\":[{\"colorbar\":{\"outlinewidth\":0,\"ticks\":\"\"},\"colorscale\":[[0.0,\"#0d0887\"],[0.1111111111111111,\"#46039f\"],[0.2222222222222222,\"#7201a8\"],[0.3333333333333333,\"#9c179e\"],[0.4444444444444444,\"#bd3786\"],[0.5555555555555556,\"#d8576b\"],[0.6666666666666666,\"#ed7953\"],[0.7777777777777778,\"#fb9f3a\"],[0.8888888888888888,\"#fdca26\"],[1.0,\"#f0f921\"]],\"type\":\"heatmapgl\"}],\"heatmap\":[{\"colorbar\":{\"outlinewidth\":0,\"ticks\":\"\"},\"colorscale\":[[0.0,\"#0d0887\"],[0.1111111111111111,\"#46039f\"],[0.2222222222222222,\"#7201a8\"],[0.3333333333333333,\"#9c179e\"],[0.4444444444444444,\"#bd3786\"],[0.5555555555555556,\"#d8576b\"],[0.6666666666666666,\"#ed7953\"],[0.7777777777777778,\"#fb9f3a\"],[0.8888888888888888,\"#fdca26\"],[1.0,\"#f0f921\"]],\"type\":\"heatmap\"}],\"histogram2dcontour\":[{\"colorbar\":{\"outlinewidth\":0,\"ticks\":\"\"},\"colorscale\":[[0.0,\"#0d0887\"],[0.1111111111111111,\"#46039f\"],[0.2222222222222222,\"#7201a8\"],[0.3333333333333333,\"#9c179e\"],[0.4444444444444444,\"#bd3786\"],[0.5555555555555556,\"#d8576b\"],[0.6666666666666666,\"#ed7953\"],[0.7777777777777778,\"#fb9f3a\"],[0.8888888888888888,\"#fdca26\"],[1.0,\"#f0f921\"]],\"type\":\"histogram2dcontour\"}],\"histogram2d\":[{\"colorbar\":{\"outlinewidth\":0,\"ticks\":\"\"},\"colorscale\":[[0.0,\"#0d0887\"],[0.1111111111111111,\"#46039f\"],[0.2222222222222222,\"#7201a8\"],[0.3333333333333333,\"#9c179e\"],[0.4444444444444444,\"#bd3786\"],[0.5555555555555556,\"#d8576b\"],[0.6666666666666666,\"#ed7953\"],[0.7777777777777778,\"#fb9f3a\"],[0.8888888888888888,\"#fdca26\"],[1.0,\"#f0f921\"]],\"type\":\"histogram2d\"}],\"histogram\":[{\"marker\":{\"pattern\":{\"fillmode\":\"overlay\",\"size\":10,\"solidity\":0.2}},\"type\":\"histogram\"}],\"mesh3d\":[{\"colorbar\":{\"outlinewidth\":0,\"ticks\":\"\"},\"type\":\"mesh3d\"}],\"parcoords\":[{\"line\":{\"colorbar\":{\"outlinewidth\":0,\"ticks\":\"\"}},\"type\":\"parcoords\"}],\"pie\":[{\"automargin\":true,\"type\":\"pie\"}],\"scatter3d\":[{\"line\":{\"colorbar\":{\"outlinewidth\":0,\"ticks\":\"\"}},\"marker\":{\"colorbar\":{\"outlinewidth\":0,\"ticks\":\"\"}},\"type\":\"scatter3d\"}],\"scattercarpet\":[{\"marker\":{\"colorbar\":{\"outlinewidth\":0,\"ticks\":\"\"}},\"type\":\"scattercarpet\"}],\"scattergeo\":[{\"marker\":{\"colorbar\":{\"outlinewidth\":0,\"ticks\":\"\"}},\"type\":\"scattergeo\"}],\"scattergl\":[{\"marker\":{\"line\":{\"color\":\"#283442\"}},\"type\":\"scattergl\"}],\"scattermapbox\":[{\"marker\":{\"colorbar\":{\"outlinewidth\":0,\"ticks\":\"\"}},\"type\":\"scattermapbox\"}],\"scatterpolargl\":[{\"marker\":{\"colorbar\":{\"outlinewidth\":0,\"ticks\":\"\"}},\"type\":\"scatterpolargl\"}],\"scatterpolar\":[{\"marker\":{\"colorbar\":{\"outlinewidth\":0,\"ticks\":\"\"}},\"type\":\"scatterpolar\"}],\"scatter\":[{\"marker\":{\"line\":{\"color\":\"#283442\"}},\"type\":\"scatter\"}],\"scatterternary\":[{\"marker\":{\"colorbar\":{\"outlinewidth\":0,\"ticks\":\"\"}},\"type\":\"scatterternary\"}],\"surface\":[{\"colorbar\":{\"outlinewidth\":0,\"ticks\":\"\"},\"colorscale\":[[0.0,\"#0d0887\"],[0.1111111111111111,\"#46039f\"],[0.2222222222222222,\"#7201a8\"],[0.3333333333333333,\"#9c179e\"],[0.4444444444444444,\"#bd3786\"],[0.5555555555555556,\"#d8576b\"],[0.6666666666666666,\"#ed7953\"],[0.7777777777777778,\"#fb9f3a\"],[0.8888888888888888,\"#fdca26\"],[1.0,\"#f0f921\"]],\"type\":\"surface\"}],\"table\":[{\"cells\":{\"fill\":{\"color\":\"#506784\"},\"line\":{\"color\":\"rgb(17,17,17)\"}},\"header\":{\"fill\":{\"color\":\"#2a3f5f\"},\"line\":{\"color\":\"rgb(17,17,17)\"}},\"type\":\"table\"}]},\"layout\":{\"annotationdefaults\":{\"arrowcolor\":\"#f2f5fa\",\"arrowhead\":0,\"arrowwidth\":1},\"autotypenumbers\":\"strict\",\"coloraxis\":{\"colorbar\":{\"outlinewidth\":0,\"ticks\":\"\"}},\"colorscale\":{\"diverging\":[[0,\"#8e0152\"],[0.1,\"#c51b7d\"],[0.2,\"#de77ae\"],[0.3,\"#f1b6da\"],[0.4,\"#fde0ef\"],[0.5,\"#f7f7f7\"],[0.6,\"#e6f5d0\"],[0.7,\"#b8e186\"],[0.8,\"#7fbc41\"],[0.9,\"#4d9221\"],[1,\"#276419\"]],\"sequential\":[[0.0,\"#0d0887\"],[0.1111111111111111,\"#46039f\"],[0.2222222222222222,\"#7201a8\"],[0.3333333333333333,\"#9c179e\"],[0.4444444444444444,\"#bd3786\"],[0.5555555555555556,\"#d8576b\"],[0.6666666666666666,\"#ed7953\"],[0.7777777777777778,\"#fb9f3a\"],[0.8888888888888888,\"#fdca26\"],[1.0,\"#f0f921\"]],\"sequentialminus\":[[0.0,\"#0d0887\"],[0.1111111111111111,\"#46039f\"],[0.2222222222222222,\"#7201a8\"],[0.3333333333333333,\"#9c179e\"],[0.4444444444444444,\"#bd3786\"],[0.5555555555555556,\"#d8576b\"],[0.6666666666666666,\"#ed7953\"],[0.7777777777777778,\"#fb9f3a\"],[0.8888888888888888,\"#fdca26\"],[1.0,\"#f0f921\"]]},\"colorway\":[\"#636efa\",\"#EF553B\",\"#00cc96\",\"#ab63fa\",\"#FFA15A\",\"#19d3f3\",\"#FF6692\",\"#B6E880\",\"#FF97FF\",\"#FECB52\"],\"font\":{\"color\":\"#f2f5fa\"},\"geo\":{\"bgcolor\":\"rgb(17,17,17)\",\"lakecolor\":\"rgb(17,17,17)\",\"landcolor\":\"rgb(17,17,17)\",\"showlakes\":true,\"showland\":true,\"subunitcolor\":\"#506784\"},\"hoverlabel\":{\"align\":\"left\"},\"hovermode\":\"closest\",\"mapbox\":{\"style\":\"dark\"},\"paper_bgcolor\":\"rgb(17,17,17)\",\"plot_bgcolor\":\"rgb(17,17,17)\",\"polar\":{\"angularaxis\":{\"gridcolor\":\"#506784\",\"linecolor\":\"#506784\",\"ticks\":\"\"},\"bgcolor\":\"rgb(17,17,17)\",\"radialaxis\":{\"gridcolor\":\"#506784\",\"linecolor\":\"#506784\",\"ticks\":\"\"}},\"scene\":{\"xaxis\":{\"backgroundcolor\":\"rgb(17,17,17)\",\"gridcolor\":\"#506784\",\"gridwidth\":2,\"linecolor\":\"#506784\",\"showbackground\":true,\"ticks\":\"\",\"zerolinecolor\":\"#C8D4E3\"},\"yaxis\":{\"backgroundcolor\":\"rgb(17,17,17)\",\"gridcolor\":\"#506784\",\"gridwidth\":2,\"linecolor\":\"#506784\",\"showbackground\":true,\"ticks\":\"\",\"zerolinecolor\":\"#C8D4E3\"},\"zaxis\":{\"backgroundcolor\":\"rgb(17,17,17)\",\"gridcolor\":\"#506784\",\"gridwidth\":2,\"linecolor\":\"#506784\",\"showbackground\":true,\"ticks\":\"\",\"zerolinecolor\":\"#C8D4E3\"}},\"shapedefaults\":{\"line\":{\"color\":\"#f2f5fa\"}},\"sliderdefaults\":{\"bgcolor\":\"#C8D4E3\",\"bordercolor\":\"rgb(17,17,17)\",\"borderwidth\":1,\"tickwidth\":0},\"ternary\":{\"aaxis\":{\"gridcolor\":\"#506784\",\"linecolor\":\"#506784\",\"ticks\":\"\"},\"baxis\":{\"gridcolor\":\"#506784\",\"linecolor\":\"#506784\",\"ticks\":\"\"},\"bgcolor\":\"rgb(17,17,17)\",\"caxis\":{\"gridcolor\":\"#506784\",\"linecolor\":\"#506784\",\"ticks\":\"\"}},\"title\":{\"x\":0.05},\"updatemenudefaults\":{\"bgcolor\":\"#506784\",\"borderwidth\":0},\"xaxis\":{\"automargin\":true,\"gridcolor\":\"#283442\",\"linecolor\":\"#506784\",\"ticks\":\"\",\"title\":{\"standoff\":15},\"zerolinecolor\":\"#283442\",\"zerolinewidth\":2},\"yaxis\":{\"automargin\":true,\"gridcolor\":\"#283442\",\"linecolor\":\"#506784\",\"ticks\":\"\",\"title\":{\"standoff\":15},\"zerolinecolor\":\"#283442\",\"zerolinewidth\":2}}},\"xaxis\":{\"title\":{\"text\":\"ESG Score\"}},\"yaxis\":{\"title\":{\"text\":\"Frequency\"}},\"font\":{\"size\":10}},                        {\"responsive\": true}                    ).then(function(){\n",
       "                            \n",
       "var gd = document.getElementById('71e75e5a-69d5-4e91-a980-9f2a103c02ed');\n",
       "var x = new MutationObserver(function (mutations, observer) {{\n",
       "        var display = window.getComputedStyle(gd).display;\n",
       "        if (!display || display === 'none') {{\n",
       "            console.log([gd, 'removed!']);\n",
       "            Plotly.purge(gd);\n",
       "            observer.disconnect();\n",
       "        }}\n",
       "}});\n",
       "\n",
       "// Listen for the removal of the full notebook cells\n",
       "var notebookContainer = gd.closest('#notebook-container');\n",
       "if (notebookContainer) {{\n",
       "    x.observe(notebookContainer, {childList: true});\n",
       "}}\n",
       "\n",
       "// Listen for the clearing of the current output cell\n",
       "var outputEl = gd.closest('.output');\n",
       "if (outputEl) {{\n",
       "    x.observe(outputEl, {childList: true});\n",
       "}}\n",
       "\n",
       "                        })                };                });            </script>        </div>"
      ]
     },
     "metadata": {},
     "output_type": "display_data"
    },
    {
     "name": "stdout",
     "output_type": "stream",
     "text": [
      "Total count: 23\n",
      "Zero count: 0\n",
      "Standard deviation: 8.62\n",
      "Max score: 63.09\n",
      "Median: 45.15\n",
      "Mean (Excluding 0): 44.26\n",
      "Q1: 39.78\n",
      "Q3: 48.1\n",
      "IQR: 8.32\n",
      "\n",
      "Companies with Top 5 ESG Scores:\n",
      "American Water Works US0304201033\n",
      "Eversource Energy US30040W1080\n",
      "NiSource Inc US65473P1057\n",
      "Alliant Energy Corp US0188021085\n",
      "PPL Corporation US69351T1060\n",
      "\n",
      "Companies with Bottom 5 ESG Scores:\n",
      "Evergy Inc US30034W1062\n",
      "Edison International US2810201077\n",
      "Duke Energy Corporation US26441C2044\n",
      "FirstEnergy Corporation US3379321074\n",
      "Sempra Energy US8168511090\n",
      "\n",
      "EURO Analysis\n",
      "\n"
     ]
    },
    {
     "data": {
      "application/vnd.jupyter.widget-view+json": {
       "model_id": "abb71e48241c43fcadf99ace9f1fb6e2",
       "version_major": 2,
       "version_minor": 0
      },
      "text/plain": [
       "  0%|          | 0/600 [00:00<?, ?it/s]"
      ]
     },
     "metadata": {},
     "output_type": "display_data"
    },
    {
     "name": "stdout",
     "output_type": "stream",
     "text": [
      "\n",
      "\n",
      "ESG scores for equities distribution on 2022-03-16:\n"
     ]
    },
    {
     "data": {
      "application/vnd.plotly.v1+json": {
       "config": {
        "plotlyServerURL": "https://plot.ly"
       },
       "data": [
        {
         "nbinsx": 90,
         "opacity": 0.7,
         "type": "histogram",
         "x": []
        }
       ],
       "layout": {
        "autosize": true,
        "font": {
         "size": 10
        },
        "template": {
         "data": {
          "bar": [
           {
            "error_x": {
             "color": "#f2f5fa"
            },
            "error_y": {
             "color": "#f2f5fa"
            },
            "marker": {
             "line": {
              "color": "rgb(17,17,17)",
              "width": 0.5
             },
             "pattern": {
              "fillmode": "overlay",
              "size": 10,
              "solidity": 0.2
             }
            },
            "type": "bar"
           }
          ],
          "barpolar": [
           {
            "marker": {
             "line": {
              "color": "rgb(17,17,17)",
              "width": 0.5
             },
             "pattern": {
              "fillmode": "overlay",
              "size": 10,
              "solidity": 0.2
             }
            },
            "type": "barpolar"
           }
          ],
          "carpet": [
           {
            "aaxis": {
             "endlinecolor": "#A2B1C6",
             "gridcolor": "#506784",
             "linecolor": "#506784",
             "minorgridcolor": "#506784",
             "startlinecolor": "#A2B1C6"
            },
            "baxis": {
             "endlinecolor": "#A2B1C6",
             "gridcolor": "#506784",
             "linecolor": "#506784",
             "minorgridcolor": "#506784",
             "startlinecolor": "#A2B1C6"
            },
            "type": "carpet"
           }
          ],
          "choropleth": [
           {
            "colorbar": {
             "outlinewidth": 0,
             "ticks": ""
            },
            "type": "choropleth"
           }
          ],
          "contour": [
           {
            "colorbar": {
             "outlinewidth": 0,
             "ticks": ""
            },
            "colorscale": [
             [
              0,
              "#0d0887"
             ],
             [
              0.1111111111111111,
              "#46039f"
             ],
             [
              0.2222222222222222,
              "#7201a8"
             ],
             [
              0.3333333333333333,
              "#9c179e"
             ],
             [
              0.4444444444444444,
              "#bd3786"
             ],
             [
              0.5555555555555556,
              "#d8576b"
             ],
             [
              0.6666666666666666,
              "#ed7953"
             ],
             [
              0.7777777777777778,
              "#fb9f3a"
             ],
             [
              0.8888888888888888,
              "#fdca26"
             ],
             [
              1,
              "#f0f921"
             ]
            ],
            "type": "contour"
           }
          ],
          "contourcarpet": [
           {
            "colorbar": {
             "outlinewidth": 0,
             "ticks": ""
            },
            "type": "contourcarpet"
           }
          ],
          "heatmap": [
           {
            "colorbar": {
             "outlinewidth": 0,
             "ticks": ""
            },
            "colorscale": [
             [
              0,
              "#0d0887"
             ],
             [
              0.1111111111111111,
              "#46039f"
             ],
             [
              0.2222222222222222,
              "#7201a8"
             ],
             [
              0.3333333333333333,
              "#9c179e"
             ],
             [
              0.4444444444444444,
              "#bd3786"
             ],
             [
              0.5555555555555556,
              "#d8576b"
             ],
             [
              0.6666666666666666,
              "#ed7953"
             ],
             [
              0.7777777777777778,
              "#fb9f3a"
             ],
             [
              0.8888888888888888,
              "#fdca26"
             ],
             [
              1,
              "#f0f921"
             ]
            ],
            "type": "heatmap"
           }
          ],
          "heatmapgl": [
           {
            "colorbar": {
             "outlinewidth": 0,
             "ticks": ""
            },
            "colorscale": [
             [
              0,
              "#0d0887"
             ],
             [
              0.1111111111111111,
              "#46039f"
             ],
             [
              0.2222222222222222,
              "#7201a8"
             ],
             [
              0.3333333333333333,
              "#9c179e"
             ],
             [
              0.4444444444444444,
              "#bd3786"
             ],
             [
              0.5555555555555556,
              "#d8576b"
             ],
             [
              0.6666666666666666,
              "#ed7953"
             ],
             [
              0.7777777777777778,
              "#fb9f3a"
             ],
             [
              0.8888888888888888,
              "#fdca26"
             ],
             [
              1,
              "#f0f921"
             ]
            ],
            "type": "heatmapgl"
           }
          ],
          "histogram": [
           {
            "marker": {
             "pattern": {
              "fillmode": "overlay",
              "size": 10,
              "solidity": 0.2
             }
            },
            "type": "histogram"
           }
          ],
          "histogram2d": [
           {
            "colorbar": {
             "outlinewidth": 0,
             "ticks": ""
            },
            "colorscale": [
             [
              0,
              "#0d0887"
             ],
             [
              0.1111111111111111,
              "#46039f"
             ],
             [
              0.2222222222222222,
              "#7201a8"
             ],
             [
              0.3333333333333333,
              "#9c179e"
             ],
             [
              0.4444444444444444,
              "#bd3786"
             ],
             [
              0.5555555555555556,
              "#d8576b"
             ],
             [
              0.6666666666666666,
              "#ed7953"
             ],
             [
              0.7777777777777778,
              "#fb9f3a"
             ],
             [
              0.8888888888888888,
              "#fdca26"
             ],
             [
              1,
              "#f0f921"
             ]
            ],
            "type": "histogram2d"
           }
          ],
          "histogram2dcontour": [
           {
            "colorbar": {
             "outlinewidth": 0,
             "ticks": ""
            },
            "colorscale": [
             [
              0,
              "#0d0887"
             ],
             [
              0.1111111111111111,
              "#46039f"
             ],
             [
              0.2222222222222222,
              "#7201a8"
             ],
             [
              0.3333333333333333,
              "#9c179e"
             ],
             [
              0.4444444444444444,
              "#bd3786"
             ],
             [
              0.5555555555555556,
              "#d8576b"
             ],
             [
              0.6666666666666666,
              "#ed7953"
             ],
             [
              0.7777777777777778,
              "#fb9f3a"
             ],
             [
              0.8888888888888888,
              "#fdca26"
             ],
             [
              1,
              "#f0f921"
             ]
            ],
            "type": "histogram2dcontour"
           }
          ],
          "mesh3d": [
           {
            "colorbar": {
             "outlinewidth": 0,
             "ticks": ""
            },
            "type": "mesh3d"
           }
          ],
          "parcoords": [
           {
            "line": {
             "colorbar": {
              "outlinewidth": 0,
              "ticks": ""
             }
            },
            "type": "parcoords"
           }
          ],
          "pie": [
           {
            "automargin": true,
            "type": "pie"
           }
          ],
          "scatter": [
           {
            "marker": {
             "line": {
              "color": "#283442"
             }
            },
            "type": "scatter"
           }
          ],
          "scatter3d": [
           {
            "line": {
             "colorbar": {
              "outlinewidth": 0,
              "ticks": ""
             }
            },
            "marker": {
             "colorbar": {
              "outlinewidth": 0,
              "ticks": ""
             }
            },
            "type": "scatter3d"
           }
          ],
          "scattercarpet": [
           {
            "marker": {
             "colorbar": {
              "outlinewidth": 0,
              "ticks": ""
             }
            },
            "type": "scattercarpet"
           }
          ],
          "scattergeo": [
           {
            "marker": {
             "colorbar": {
              "outlinewidth": 0,
              "ticks": ""
             }
            },
            "type": "scattergeo"
           }
          ],
          "scattergl": [
           {
            "marker": {
             "line": {
              "color": "#283442"
             }
            },
            "type": "scattergl"
           }
          ],
          "scattermapbox": [
           {
            "marker": {
             "colorbar": {
              "outlinewidth": 0,
              "ticks": ""
             }
            },
            "type": "scattermapbox"
           }
          ],
          "scatterpolar": [
           {
            "marker": {
             "colorbar": {
              "outlinewidth": 0,
              "ticks": ""
             }
            },
            "type": "scatterpolar"
           }
          ],
          "scatterpolargl": [
           {
            "marker": {
             "colorbar": {
              "outlinewidth": 0,
              "ticks": ""
             }
            },
            "type": "scatterpolargl"
           }
          ],
          "scatterternary": [
           {
            "marker": {
             "colorbar": {
              "outlinewidth": 0,
              "ticks": ""
             }
            },
            "type": "scatterternary"
           }
          ],
          "surface": [
           {
            "colorbar": {
             "outlinewidth": 0,
             "ticks": ""
            },
            "colorscale": [
             [
              0,
              "#0d0887"
             ],
             [
              0.1111111111111111,
              "#46039f"
             ],
             [
              0.2222222222222222,
              "#7201a8"
             ],
             [
              0.3333333333333333,
              "#9c179e"
             ],
             [
              0.4444444444444444,
              "#bd3786"
             ],
             [
              0.5555555555555556,
              "#d8576b"
             ],
             [
              0.6666666666666666,
              "#ed7953"
             ],
             [
              0.7777777777777778,
              "#fb9f3a"
             ],
             [
              0.8888888888888888,
              "#fdca26"
             ],
             [
              1,
              "#f0f921"
             ]
            ],
            "type": "surface"
           }
          ],
          "table": [
           {
            "cells": {
             "fill": {
              "color": "#506784"
             },
             "line": {
              "color": "rgb(17,17,17)"
             }
            },
            "header": {
             "fill": {
              "color": "#2a3f5f"
             },
             "line": {
              "color": "rgb(17,17,17)"
             }
            },
            "type": "table"
           }
          ]
         },
         "layout": {
          "annotationdefaults": {
           "arrowcolor": "#f2f5fa",
           "arrowhead": 0,
           "arrowwidth": 1
          },
          "autotypenumbers": "strict",
          "coloraxis": {
           "colorbar": {
            "outlinewidth": 0,
            "ticks": ""
           }
          },
          "colorscale": {
           "diverging": [
            [
             0,
             "#8e0152"
            ],
            [
             0.1,
             "#c51b7d"
            ],
            [
             0.2,
             "#de77ae"
            ],
            [
             0.3,
             "#f1b6da"
            ],
            [
             0.4,
             "#fde0ef"
            ],
            [
             0.5,
             "#f7f7f7"
            ],
            [
             0.6,
             "#e6f5d0"
            ],
            [
             0.7,
             "#b8e186"
            ],
            [
             0.8,
             "#7fbc41"
            ],
            [
             0.9,
             "#4d9221"
            ],
            [
             1,
             "#276419"
            ]
           ],
           "sequential": [
            [
             0,
             "#0d0887"
            ],
            [
             0.1111111111111111,
             "#46039f"
            ],
            [
             0.2222222222222222,
             "#7201a8"
            ],
            [
             0.3333333333333333,
             "#9c179e"
            ],
            [
             0.4444444444444444,
             "#bd3786"
            ],
            [
             0.5555555555555556,
             "#d8576b"
            ],
            [
             0.6666666666666666,
             "#ed7953"
            ],
            [
             0.7777777777777778,
             "#fb9f3a"
            ],
            [
             0.8888888888888888,
             "#fdca26"
            ],
            [
             1,
             "#f0f921"
            ]
           ],
           "sequentialminus": [
            [
             0,
             "#0d0887"
            ],
            [
             0.1111111111111111,
             "#46039f"
            ],
            [
             0.2222222222222222,
             "#7201a8"
            ],
            [
             0.3333333333333333,
             "#9c179e"
            ],
            [
             0.4444444444444444,
             "#bd3786"
            ],
            [
             0.5555555555555556,
             "#d8576b"
            ],
            [
             0.6666666666666666,
             "#ed7953"
            ],
            [
             0.7777777777777778,
             "#fb9f3a"
            ],
            [
             0.8888888888888888,
             "#fdca26"
            ],
            [
             1,
             "#f0f921"
            ]
           ]
          },
          "colorway": [
           "#636efa",
           "#EF553B",
           "#00cc96",
           "#ab63fa",
           "#FFA15A",
           "#19d3f3",
           "#FF6692",
           "#B6E880",
           "#FF97FF",
           "#FECB52"
          ],
          "font": {
           "color": "#f2f5fa"
          },
          "geo": {
           "bgcolor": "rgb(17,17,17)",
           "lakecolor": "rgb(17,17,17)",
           "landcolor": "rgb(17,17,17)",
           "showlakes": true,
           "showland": true,
           "subunitcolor": "#506784"
          },
          "hoverlabel": {
           "align": "left"
          },
          "hovermode": "closest",
          "mapbox": {
           "style": "dark"
          },
          "paper_bgcolor": "rgb(17,17,17)",
          "plot_bgcolor": "rgb(17,17,17)",
          "polar": {
           "angularaxis": {
            "gridcolor": "#506784",
            "linecolor": "#506784",
            "ticks": ""
           },
           "bgcolor": "rgb(17,17,17)",
           "radialaxis": {
            "gridcolor": "#506784",
            "linecolor": "#506784",
            "ticks": ""
           }
          },
          "scene": {
           "xaxis": {
            "backgroundcolor": "rgb(17,17,17)",
            "gridcolor": "#506784",
            "gridwidth": 2,
            "linecolor": "#506784",
            "showbackground": true,
            "ticks": "",
            "zerolinecolor": "#C8D4E3"
           },
           "yaxis": {
            "backgroundcolor": "rgb(17,17,17)",
            "gridcolor": "#506784",
            "gridwidth": 2,
            "linecolor": "#506784",
            "showbackground": true,
            "ticks": "",
            "zerolinecolor": "#C8D4E3"
           },
           "zaxis": {
            "backgroundcolor": "rgb(17,17,17)",
            "gridcolor": "#506784",
            "gridwidth": 2,
            "linecolor": "#506784",
            "showbackground": true,
            "ticks": "",
            "zerolinecolor": "#C8D4E3"
           }
          },
          "shapedefaults": {
           "line": {
            "color": "#f2f5fa"
           }
          },
          "sliderdefaults": {
           "bgcolor": "#C8D4E3",
           "bordercolor": "rgb(17,17,17)",
           "borderwidth": 1,
           "tickwidth": 0
          },
          "ternary": {
           "aaxis": {
            "gridcolor": "#506784",
            "linecolor": "#506784",
            "ticks": ""
           },
           "baxis": {
            "gridcolor": "#506784",
            "linecolor": "#506784",
            "ticks": ""
           },
           "bgcolor": "rgb(17,17,17)",
           "caxis": {
            "gridcolor": "#506784",
            "linecolor": "#506784",
            "ticks": ""
           }
          },
          "title": {
           "x": 0.05
          },
          "updatemenudefaults": {
           "bgcolor": "#506784",
           "borderwidth": 0
          },
          "xaxis": {
           "automargin": true,
           "gridcolor": "#283442",
           "linecolor": "#506784",
           "ticks": "",
           "title": {
            "standoff": 15
           },
           "zerolinecolor": "#283442",
           "zerolinewidth": 2
          },
          "yaxis": {
           "automargin": true,
           "gridcolor": "#283442",
           "linecolor": "#506784",
           "ticks": "",
           "title": {
            "standoff": 15
           },
           "zerolinecolor": "#283442",
           "zerolinewidth": 2
          }
         }
        },
        "xaxis": {
         "autorange": true,
         "range": [
          -1,
          6
         ],
         "title": {
          "text": "ESG Score"
         }
        },
        "yaxis": {
         "autorange": true,
         "range": [
          -1,
          4
         ],
         "title": {
          "text": "Frequency"
         }
        }
       }
      },
      "image/png": "[encoded data removed]",
      "text/html": [
       "<div>                            <div id=\"748261b0-a357-4fae-8220-0cd7c527b16e\" class=\"plotly-graph-div\" style=\"height:525px; width:100%;\"></div>            <script type=\"text/javascript\">                require([\"plotly\"], function(Plotly) {                    window.PLOTLYENV=window.PLOTLYENV || {};                                    if (document.getElementById(\"748261b0-a357-4fae-8220-0cd7c527b16e\")) {                    Plotly.newPlot(                        \"748261b0-a357-4fae-8220-0cd7c527b16e\",                        [{\"nbinsx\":90,\"opacity\":0.7,\"x\":[],\"type\":\"histogram\"}],                        {\"template\":{\"data\":{\"barpolar\":[{\"marker\":{\"line\":{\"color\":\"rgb(17,17,17)\",\"width\":0.5},\"pattern\":{\"fillmode\":\"overlay\",\"size\":10,\"solidity\":0.2}},\"type\":\"barpolar\"}],\"bar\":[{\"error_x\":{\"color\":\"#f2f5fa\"},\"error_y\":{\"color\":\"#f2f5fa\"},\"marker\":{\"line\":{\"color\":\"rgb(17,17,17)\",\"width\":0.5},\"pattern\":{\"fillmode\":\"overlay\",\"size\":10,\"solidity\":0.2}},\"type\":\"bar\"}],\"carpet\":[{\"aaxis\":{\"endlinecolor\":\"#A2B1C6\",\"gridcolor\":\"#506784\",\"linecolor\":\"#506784\",\"minorgridcolor\":\"#506784\",\"startlinecolor\":\"#A2B1C6\"},\"baxis\":{\"endlinecolor\":\"#A2B1C6\",\"gridcolor\":\"#506784\",\"linecolor\":\"#506784\",\"minorgridcolor\":\"#506784\",\"startlinecolor\":\"#A2B1C6\"},\"type\":\"carpet\"}],\"choropleth\":[{\"colorbar\":{\"outlinewidth\":0,\"ticks\":\"\"},\"type\":\"choropleth\"}],\"contourcarpet\":[{\"colorbar\":{\"outlinewidth\":0,\"ticks\":\"\"},\"type\":\"contourcarpet\"}],\"contour\":[{\"colorbar\":{\"outlinewidth\":0,\"ticks\":\"\"},\"colorscale\":[[0.0,\"#0d0887\"],[0.1111111111111111,\"#46039f\"],[0.2222222222222222,\"#7201a8\"],[0.3333333333333333,\"#9c179e\"],[0.4444444444444444,\"#bd3786\"],[0.5555555555555556,\"#d8576b\"],[0.6666666666666666,\"#ed7953\"],[0.7777777777777778,\"#fb9f3a\"],[0.8888888888888888,\"#fdca26\"],[1.0,\"#f0f921\"]],\"type\":\"contour\"}],\"heatmapgl\":[{\"colorbar\":{\"outlinewidth\":0,\"ticks\":\"\"},\"colorscale\":[[0.0,\"#0d0887\"],[0.1111111111111111,\"#46039f\"],[0.2222222222222222,\"#7201a8\"],[0.3333333333333333,\"#9c179e\"],[0.4444444444444444,\"#bd3786\"],[0.5555555555555556,\"#d8576b\"],[0.6666666666666666,\"#ed7953\"],[0.7777777777777778,\"#fb9f3a\"],[0.8888888888888888,\"#fdca26\"],[1.0,\"#f0f921\"]],\"type\":\"heatmapgl\"}],\"heatmap\":[{\"colorbar\":{\"outlinewidth\":0,\"ticks\":\"\"},\"colorscale\":[[0.0,\"#0d0887\"],[0.1111111111111111,\"#46039f\"],[0.2222222222222222,\"#7201a8\"],[0.3333333333333333,\"#9c179e\"],[0.4444444444444444,\"#bd3786\"],[0.5555555555555556,\"#d8576b\"],[0.6666666666666666,\"#ed7953\"],[0.7777777777777778,\"#fb9f3a\"],[0.8888888888888888,\"#fdca26\"],[1.0,\"#f0f921\"]],\"type\":\"heatmap\"}],\"histogram2dcontour\":[{\"colorbar\":{\"outlinewidth\":0,\"ticks\":\"\"},\"colorscale\":[[0.0,\"#0d0887\"],[0.1111111111111111,\"#46039f\"],[0.2222222222222222,\"#7201a8\"],[0.3333333333333333,\"#9c179e\"],[0.4444444444444444,\"#bd3786\"],[0.5555555555555556,\"#d8576b\"],[0.6666666666666666,\"#ed7953\"],[0.7777777777777778,\"#fb9f3a\"],[0.8888888888888888,\"#fdca26\"],[1.0,\"#f0f921\"]],\"type\":\"histogram2dcontour\"}],\"histogram2d\":[{\"colorbar\":{\"outlinewidth\":0,\"ticks\":\"\"},\"colorscale\":[[0.0,\"#0d0887\"],[0.1111111111111111,\"#46039f\"],[0.2222222222222222,\"#7201a8\"],[0.3333333333333333,\"#9c179e\"],[0.4444444444444444,\"#bd3786\"],[0.5555555555555556,\"#d8576b\"],[0.6666666666666666,\"#ed7953\"],[0.7777777777777778,\"#fb9f3a\"],[0.8888888888888888,\"#fdca26\"],[1.0,\"#f0f921\"]],\"type\":\"histogram2d\"}],\"histogram\":[{\"marker\":{\"pattern\":{\"fillmode\":\"overlay\",\"size\":10,\"solidity\":0.2}},\"type\":\"histogram\"}],\"mesh3d\":[{\"colorbar\":{\"outlinewidth\":0,\"ticks\":\"\"},\"type\":\"mesh3d\"}],\"parcoords\":[{\"line\":{\"colorbar\":{\"outlinewidth\":0,\"ticks\":\"\"}},\"type\":\"parcoords\"}],\"pie\":[{\"automargin\":true,\"type\":\"pie\"}],\"scatter3d\":[{\"line\":{\"colorbar\":{\"outlinewidth\":0,\"ticks\":\"\"}},\"marker\":{\"colorbar\":{\"outlinewidth\":0,\"ticks\":\"\"}},\"type\":\"scatter3d\"}],\"scattercarpet\":[{\"marker\":{\"colorbar\":{\"outlinewidth\":0,\"ticks\":\"\"}},\"type\":\"scattercarpet\"}],\"scattergeo\":[{\"marker\":{\"colorbar\":{\"outlinewidth\":0,\"ticks\":\"\"}},\"type\":\"scattergeo\"}],\"scattergl\":[{\"marker\":{\"line\":{\"color\":\"#283442\"}},\"type\":\"scattergl\"}],\"scattermapbox\":[{\"marker\":{\"colorbar\":{\"outlinewidth\":0,\"ticks\":\"\"}},\"type\":\"scattermapbox\"}],\"scatterpolargl\":[{\"marker\":{\"colorbar\":{\"outlinewidth\":0,\"ticks\":\"\"}},\"type\":\"scatterpolargl\"}],\"scatterpolar\":[{\"marker\":{\"colorbar\":{\"outlinewidth\":0,\"ticks\":\"\"}},\"type\":\"scatterpolar\"}],\"scatter\":[{\"marker\":{\"line\":{\"color\":\"#283442\"}},\"type\":\"scatter\"}],\"scatterternary\":[{\"marker\":{\"colorbar\":{\"outlinewidth\":0,\"ticks\":\"\"}},\"type\":\"scatterternary\"}],\"surface\":[{\"colorbar\":{\"outlinewidth\":0,\"ticks\":\"\"},\"colorscale\":[[0.0,\"#0d0887\"],[0.1111111111111111,\"#46039f\"],[0.2222222222222222,\"#7201a8\"],[0.3333333333333333,\"#9c179e\"],[0.4444444444444444,\"#bd3786\"],[0.5555555555555556,\"#d8576b\"],[0.6666666666666666,\"#ed7953\"],[0.7777777777777778,\"#fb9f3a\"],[0.8888888888888888,\"#fdca26\"],[1.0,\"#f0f921\"]],\"type\":\"surface\"}],\"table\":[{\"cells\":{\"fill\":{\"color\":\"#506784\"},\"line\":{\"color\":\"rgb(17,17,17)\"}},\"header\":{\"fill\":{\"color\":\"#2a3f5f\"},\"line\":{\"color\":\"rgb(17,17,17)\"}},\"type\":\"table\"}]},\"layout\":{\"annotationdefaults\":{\"arrowcolor\":\"#f2f5fa\",\"arrowhead\":0,\"arrowwidth\":1},\"autotypenumbers\":\"strict\",\"coloraxis\":{\"colorbar\":{\"outlinewidth\":0,\"ticks\":\"\"}},\"colorscale\":{\"diverging\":[[0,\"#8e0152\"],[0.1,\"#c51b7d\"],[0.2,\"#de77ae\"],[0.3,\"#f1b6da\"],[0.4,\"#fde0ef\"],[0.5,\"#f7f7f7\"],[0.6,\"#e6f5d0\"],[0.7,\"#b8e186\"],[0.8,\"#7fbc41\"],[0.9,\"#4d9221\"],[1,\"#276419\"]],\"sequential\":[[0.0,\"#0d0887\"],[0.1111111111111111,\"#46039f\"],[0.2222222222222222,\"#7201a8\"],[0.3333333333333333,\"#9c179e\"],[0.4444444444444444,\"#bd3786\"],[0.5555555555555556,\"#d8576b\"],[0.6666666666666666,\"#ed7953\"],[0.7777777777777778,\"#fb9f3a\"],[0.8888888888888888,\"#fdca26\"],[1.0,\"#f0f921\"]],\"sequentialminus\":[[0.0,\"#0d0887\"],[0.1111111111111111,\"#46039f\"],[0.2222222222222222,\"#7201a8\"],[0.3333333333333333,\"#9c179e\"],[0.4444444444444444,\"#bd3786\"],[0.5555555555555556,\"#d8576b\"],[0.6666666666666666,\"#ed7953\"],[0.7777777777777778,\"#fb9f3a\"],[0.8888888888888888,\"#fdca26\"],[1.0,\"#f0f921\"]]},\"colorway\":[\"#636efa\",\"#EF553B\",\"#00cc96\",\"#ab63fa\",\"#FFA15A\",\"#19d3f3\",\"#FF6692\",\"#B6E880\",\"#FF97FF\",\"#FECB52\"],\"font\":{\"color\":\"#f2f5fa\"},\"geo\":{\"bgcolor\":\"rgb(17,17,17)\",\"lakecolor\":\"rgb(17,17,17)\",\"landcolor\":\"rgb(17,17,17)\",\"showlakes\":true,\"showland\":true,\"subunitcolor\":\"#506784\"},\"hoverlabel\":{\"align\":\"left\"},\"hovermode\":\"closest\",\"mapbox\":{\"style\":\"dark\"},\"paper_bgcolor\":\"rgb(17,17,17)\",\"plot_bgcolor\":\"rgb(17,17,17)\",\"polar\":{\"angularaxis\":{\"gridcolor\":\"#506784\",\"linecolor\":\"#506784\",\"ticks\":\"\"},\"bgcolor\":\"rgb(17,17,17)\",\"radialaxis\":{\"gridcolor\":\"#506784\",\"linecolor\":\"#506784\",\"ticks\":\"\"}},\"scene\":{\"xaxis\":{\"backgroundcolor\":\"rgb(17,17,17)\",\"gridcolor\":\"#506784\",\"gridwidth\":2,\"linecolor\":\"#506784\",\"showbackground\":true,\"ticks\":\"\",\"zerolinecolor\":\"#C8D4E3\"},\"yaxis\":{\"backgroundcolor\":\"rgb(17,17,17)\",\"gridcolor\":\"#506784\",\"gridwidth\":2,\"linecolor\":\"#506784\",\"showbackground\":true,\"ticks\":\"\",\"zerolinecolor\":\"#C8D4E3\"},\"zaxis\":{\"backgroundcolor\":\"rgb(17,17,17)\",\"gridcolor\":\"#506784\",\"gridwidth\":2,\"linecolor\":\"#506784\",\"showbackground\":true,\"ticks\":\"\",\"zerolinecolor\":\"#C8D4E3\"}},\"shapedefaults\":{\"line\":{\"color\":\"#f2f5fa\"}},\"sliderdefaults\":{\"bgcolor\":\"#C8D4E3\",\"bordercolor\":\"rgb(17,17,17)\",\"borderwidth\":1,\"tickwidth\":0},\"ternary\":{\"aaxis\":{\"gridcolor\":\"#506784\",\"linecolor\":\"#506784\",\"ticks\":\"\"},\"baxis\":{\"gridcolor\":\"#506784\",\"linecolor\":\"#506784\",\"ticks\":\"\"},\"bgcolor\":\"rgb(17,17,17)\",\"caxis\":{\"gridcolor\":\"#506784\",\"linecolor\":\"#506784\",\"ticks\":\"\"}},\"title\":{\"x\":0.05},\"updatemenudefaults\":{\"bgcolor\":\"#506784\",\"borderwidth\":0},\"xaxis\":{\"automargin\":true,\"gridcolor\":\"#283442\",\"linecolor\":\"#506784\",\"ticks\":\"\",\"title\":{\"standoff\":15},\"zerolinecolor\":\"#283442\",\"zerolinewidth\":2},\"yaxis\":{\"automargin\":true,\"gridcolor\":\"#283442\",\"linecolor\":\"#506784\",\"ticks\":\"\",\"title\":{\"standoff\":15},\"zerolinecolor\":\"#283442\",\"zerolinewidth\":2}}},\"xaxis\":{\"title\":{\"text\":\"ESG Score\"}},\"yaxis\":{\"title\":{\"text\":\"Frequency\"}},\"font\":{\"size\":10}},                        {\"responsive\": true}                    ).then(function(){\n",
       "                            \n",
       "var gd = document.getElementById('748261b0-a357-4fae-8220-0cd7c527b16e');\n",
       "var x = new MutationObserver(function (mutations, observer) {{\n",
       "        var display = window.getComputedStyle(gd).display;\n",
       "        if (!display || display === 'none') {{\n",
       "            console.log([gd, 'removed!']);\n",
       "            Plotly.purge(gd);\n",
       "            observer.disconnect();\n",
       "        }}\n",
       "}});\n",
       "\n",
       "// Listen for the removal of the full notebook cells\n",
       "var notebookContainer = gd.closest('#notebook-container');\n",
       "if (notebookContainer) {{\n",
       "    x.observe(notebookContainer, {childList: true});\n",
       "}}\n",
       "\n",
       "// Listen for the clearing of the current output cell\n",
       "var outputEl = gd.closest('.output');\n",
       "if (outputEl) {{\n",
       "    x.observe(outputEl, {childList: true});\n",
       "}}\n",
       "\n",
       "                        })                };                });            </script>        </div>"
      ]
     },
     "metadata": {},
     "output_type": "display_data"
    },
    {
     "name": "stdout",
     "output_type": "stream",
     "text": [
      "Total count: 0\n",
      "Zero count: 0\n",
      "Standard deviation: nan\n"
     ]
    },
    {
     "name": "stderr",
     "output_type": "stream",
     "text": [
      "C:\\Users\\anish\\AppData\\Local\\Packages\\PythonSoftwareFoundation.Python.3.10_qbz5n2kfra8p0\\LocalCache\\local-packages\\Python310\\site-packages\\numpy\\core\\_methods.py:265: RuntimeWarning:\n",
      "\n",
      "Degrees of freedom <= 0 for slice\n",
      "\n",
      "C:\\Users\\anish\\AppData\\Local\\Packages\\PythonSoftwareFoundation.Python.3.10_qbz5n2kfra8p0\\LocalCache\\local-packages\\Python310\\site-packages\\numpy\\core\\_methods.py:223: RuntimeWarning:\n",
      "\n",
      "invalid value encountered in divide\n",
      "\n",
      "C:\\Users\\anish\\AppData\\Local\\Packages\\PythonSoftwareFoundation.Python.3.10_qbz5n2kfra8p0\\LocalCache\\local-packages\\Python310\\site-packages\\numpy\\core\\_methods.py:257: RuntimeWarning:\n",
      "\n",
      "invalid value encountered in double_scalars\n",
      "\n"
     ]
    },
    {
     "ename": "ValueError",
     "evalue": "max() arg is an empty sequence",
     "output_type": "error",
     "traceback": [
      "\u001b[1;31m---------------------------------------------------------------------------\u001b[0m",
      "\u001b[1;31mValueError\u001b[0m                                Traceback (most recent call last)",
      "Cell \u001b[1;32mIn[31], line 46\u001b[0m\n\u001b[0;32m     44\u001b[0m \u001b[38;5;28mprint\u001b[39m(\u001b[38;5;124mf\u001b[39m\u001b[38;5;124m\"\u001b[39m\u001b[38;5;124mZero count: \u001b[39m\u001b[38;5;132;01m{\u001b[39;00m\u001b[38;5;28mlen\u001b[39m(arr[arr\u001b[38;5;250m \u001b[39m\u001b[38;5;241m==\u001b[39m\u001b[38;5;250m \u001b[39m\u001b[38;5;241m0\u001b[39m])\u001b[38;5;132;01m}\u001b[39;00m\u001b[38;5;124m\"\u001b[39m)\n\u001b[0;32m     45\u001b[0m \u001b[38;5;28mprint\u001b[39m(\u001b[38;5;124mf\u001b[39m\u001b[38;5;124m\"\u001b[39m\u001b[38;5;124mStandard deviation: \u001b[39m\u001b[38;5;132;01m{\u001b[39;00m\u001b[38;5;28mround\u001b[39m(np\u001b[38;5;241m.\u001b[39mstd(arr),\u001b[38;5;250m \u001b[39m\u001b[38;5;241m2\u001b[39m)\u001b[38;5;132;01m}\u001b[39;00m\u001b[38;5;124m\"\u001b[39m)\n\u001b[1;32m---> 46\u001b[0m \u001b[38;5;28mprint\u001b[39m(\u001b[38;5;124mf\u001b[39m\u001b[38;5;124m\"\u001b[39m\u001b[38;5;124mMax score: \u001b[39m\u001b[38;5;132;01m{\u001b[39;00m\u001b[38;5;28mround\u001b[39m(\u001b[38;5;28;43mmax\u001b[39;49m\u001b[43m(\u001b[49m\u001b[43marr\u001b[49m\u001b[43m)\u001b[49m,\u001b[38;5;250m \u001b[39m\u001b[38;5;241m2\u001b[39m)\u001b[38;5;132;01m}\u001b[39;00m\u001b[38;5;124m\"\u001b[39m)\n\u001b[0;32m     47\u001b[0m \u001b[38;5;28mprint\u001b[39m(\u001b[38;5;124mf\u001b[39m\u001b[38;5;124m\"\u001b[39m\u001b[38;5;124mMedian: \u001b[39m\u001b[38;5;132;01m{\u001b[39;00m\u001b[38;5;28mround\u001b[39m(np\u001b[38;5;241m.\u001b[39mmedian(arr),\u001b[38;5;250m \u001b[39m\u001b[38;5;241m2\u001b[39m)\u001b[38;5;132;01m}\u001b[39;00m\u001b[38;5;124m\"\u001b[39m)\n\u001b[0;32m     48\u001b[0m \u001b[38;5;28mprint\u001b[39m(\u001b[38;5;124mf\u001b[39m\u001b[38;5;124m\"\u001b[39m\u001b[38;5;124mMean (Excluding 0): \u001b[39m\u001b[38;5;132;01m{\u001b[39;00m\u001b[38;5;28mround\u001b[39m(arr[arr\u001b[38;5;250m \u001b[39m\u001b[38;5;241m!=\u001b[39m\u001b[38;5;250m \u001b[39m\u001b[38;5;241m0\u001b[39m]\u001b[38;5;241m.\u001b[39mmean(),\u001b[38;5;250m \u001b[39m\u001b[38;5;241m2\u001b[39m)\u001b[38;5;132;01m}\u001b[39;00m\u001b[38;5;124m\"\u001b[39m)\n",
      "\u001b[1;31mValueError\u001b[0m: max() arg is an empty sequence"
     ]
    }
   ],
   "source": [
    "# check if there are any isins for which there is no data for a given date\n",
    "date = '2022-03-16'\n",
    "date2 = date.replace('-', '/')\n",
    "for const, sector, esg, market in [(spx_const, spx_sector, spx_esg, 'SPX'), (euro_const, euro_sector, euro_esg, 'EURO')]:\n",
    "    print(f'\\n{market} Analysis\\n')\n",
    "    scores = []\n",
    "    dates = []\n",
    "    companies = []\n",
    "    na = set()\n",
    "    for isin in tqdm(const[date]):\n",
    "        try:\n",
    "            if sector.get(isin) != 'utilities':\n",
    "                continue\n",
    "            scores.append([esg[isin][pd.to_datetime(date2)]['esg_score'], isin])\n",
    "            companies.append(isin)\n",
    "        except Exception:\n",
    "            na.add(isin)\n",
    "    scores.sort()\n",
    "    \n",
    "    \n",
    "    plt.style.use('dark_background') # plot distribution of ESG scores for given date\n",
    "    \n",
    "    print(f\"\\n\\nESG scores for equities distribution on {date}:\")\n",
    "    values = []\n",
    "    for x in scores:\n",
    "        if x[0] != 0:\n",
    "            values.append(x[0])\n",
    "    \n",
    "    fig = go.Figure(data=[go.Histogram(x=values, nbinsx=90, opacity=0.7)])\n",
    "    \n",
    "    fig.update_layout(\n",
    "        xaxis_title_text='ESG Score', \n",
    "        yaxis_title_text='Frequency',  \n",
    "        template='plotly_dark',\n",
    "        font=dict(size=10)            \n",
    "    )\n",
    "    \n",
    "    fig.show()\n",
    "    \n",
    "    \n",
    "    # descriptive statistics for distribution\n",
    "    arr = np.array([x[0] for x in scores])\n",
    "    print(f\"Total count: {len(scores)}\")\n",
    "    print(f\"Zero count: {len(arr[arr == 0])}\")\n",
    "    print(f\"Standard deviation: {round(np.std(arr), 2)}\")\n",
    "    print(f\"Max score: {round(max(arr), 2)}\")\n",
    "    print(f\"Median: {round(np.median(arr), 2)}\")\n",
    "    print(f\"Mean (Excluding 0): {round(arr[arr != 0].mean(), 2)}\")\n",
    "    print(f\"Q1: {round(np.percentile(arr, 25), 2)}\")\n",
    "    print(f\"Q3: {round(np.percentile(arr, 75), 2)}\")\n",
    "    print(f\"IQR: {round(np.subtract(*np.percentile(arr, [75, 25])), 2)}\")\n",
    "    \n",
    "    print(f\"\\nCompanies with Top 5 ESG Scores:\")\n",
    "    # 5 companies with best ESG score\n",
    "    for rri, isin in scores[:5]:\n",
    "        try:\n",
    "            print(investpy.stocks.search_stocks(by='isin', value=isin).full_name[0], isin)\n",
    "        except Exception:\n",
    "            print(isin)\n",
    "    print(f\"\\nCompanies with Bottom 5 ESG Scores:\")\n",
    "    for rri, isin in scores[-5:]:\n",
    "        try:\n",
    "            print(investpy.stocks.search_stocks(by='isin', value=isin).full_name[0], isin)\n",
    "        except Exception:\n",
    "            print(isin)"
   ]
  },
  {
   "cell_type": "code",
   "execution_count": 34,
   "id": "b996eb28-7d7f-47e8-9923-615f7654f140",
   "metadata": {},
   "outputs": [
    {
     "name": "stdout",
     "output_type": "stream",
     "text": [
      "\n",
      "SPX Analysis\n",
      "\n",
      "\n",
      " financials/util above \n",
      "\n",
      "Companies with Top 5 ESG score: \n",
      "Realty Income Corp 0.0\n",
      "Public Storage 0.023849944781594842\n",
      "Extra Space Storage Inc 0.5063998611666759\n",
      "Aflac Inc 5.717300297768132\n",
      "Welltower Inc 7.536363622754101\n",
      "\n",
      "Companies with Bottom ESG score: \n",
      "JPMorgan Chase & Co 82.04449112712454\n",
      "Alphabet Inc C 82.38751983256081\n",
      "Alphabet Inc 82.38751983256081\n",
      "Wells Fargo & Co 82.7013385407628\n",
      "Goldman Sachs Group Inc 87.16031642977569\n",
      "\n",
      " financials/util below \n",
      "\n",
      "Companies with Top 5 ESG score: \n",
      "Regency Centers Corporation 0.0\n",
      "US3137451015 0.0\n",
      "MarketAxess Holdings Inc 0.0\n",
      "Alexandria Real Estate Equities Inc 0.0\n",
      "Kimco Realty Corporation 0.03133492874682934\n",
      "\n",
      "Companies with Bottom ESG score: \n",
      "Franklin Resources Inc 48.50093256839289\n",
      "Invesco Plc 49.00912676702433\n",
      "United Airlines Holdings Inc 50.77909499587049\n",
      "Ameren Corp 57.16326273131326\n",
      "FirstEnergy Corporation 58.441321062471886\n",
      "\n",
      " others above \n",
      "\n",
      "Companies with Top 5 ESG score: \n",
      "Cadence Design Systems Inc 0.0\n",
      "Synopsys Inc 0.0\n",
      "Super Micro Computer Inc 0.0\n",
      "Agilent Technologies Inc 2.2094355481844303\n",
      "Paychex Inc 2.9214864117861117\n",
      "\n",
      "Companies with Bottom ESG score: \n",
      "Johnson & Johnson 84.98878513062799\n",
      "Exxon Mobil Corporation 85.17605737534116\n",
      "Wal-Mart Stores Inc 85.28992472163941\n",
      "Boeing Company 85.82972695578135\n",
      "3M Company 86.74500308828067\n",
      "\n",
      " others below \n",
      "\n",
      "Companies with Top 5 ESG score: \n",
      "Monolithic Power Systems Inc 0.0\n",
      "Hubbell Inc 0.0\n",
      "US92338C1036 0.0\n",
      "Nordson Corporation 0.0\n",
      "US83444M1018 0.0\n",
      "\n",
      "Companies with Bottom ESG score: \n",
      "Tyson Foods Inc 69.97445875868158\n",
      "Kellogg Company 72.69298351874858\n",
      "DuPont de Nemours Inc 74.46966832539631\n",
      "Cardinal Health Inc 79.0336240729603\n",
      "Walgreens Boots Alliance Inc 80.850249431607\n",
      "\n",
      "EURO Analysis\n",
      "\n",
      "\n",
      " financials/util above \n",
      "\n",
      "Companies with Top 5 ESG score: \n",
      "Investment Latour AB 0.0\n",
      "Talanx AG 4.509871500078699\n",
      "Deutsche Boerse AG 15.199742961913897\n",
      "3I Group PLC 19.20958060709618\n",
      "Mediobanca Banca di Credito Finanziario SpA 19.49830498648702\n",
      "\n",
      "Companies with Bottom ESG score: \n",
      "Barclays PLC 77.98681211819681\n",
      "BNP Paribas SA 80.18398415441186\n",
      "HSBC Holdings 80.32466702531352\n",
      "UBS Group AG 81.11310796961804\n",
      "Deutsche Bank AG 82.86500425427482\n",
      "\n",
      " financials/util below \n",
      "\n",
      "Companies with Top 5 ESG score: \n",
      "IG Group Holdings PLC 0.0\n",
      "Direct Line Insurance Group PLC 0.0\n",
      "Cembra Money Bank AG 0.0\n",
      "Lundbergforetagen AB, L E ser. B 0.0\n",
      "Swissquote Group Holding SA 0.0\n",
      "\n",
      "Companies with Bottom ESG score: \n",
      "Storebrand ASA 52.45470543942873\n",
      "Fortum Oyj 53.30267244548941\n",
      "Severn Trent PLC 59.390225439347134\n",
      "Drax Group 59.56101315326786\n",
      "ABN AMRO Group NV 67.16477422186811\n",
      "\n",
      " others above \n",
      "\n",
      "Companies with Top 5 ESG score: \n",
      "ASM International NV 0.0\n",
      "IMCD NV 0.0\n",
      "Sartorius Stedim Biotech SA 0.0\n",
      "Argen-X 0.0\n",
      "Indutrade AB 0.0\n",
      "\n",
      "Companies with Bottom ESG score: \n",
      "Bayer AG 82.74865114539044\n",
      "Equinor ASA 83.33041296896913\n",
      "GB00BP6MXD84 86.95631399748062\n",
      "Glencore PLC 90.42490255622823\n",
      "Total SA 93.8124792470005\n",
      "\n",
      " others below \n",
      "\n",
      "Companies with Top 5 ESG score: \n",
      "Aixtron SE 0.0\n",
      "Softcat PLC 0.0\n",
      "CH1169360919 0.0\n",
      "Comet Holding AG 0.0\n",
      "Rotork PLC 0.0\n",
      "\n",
      "Companies with Bottom ESG score: \n",
      "Porsche Automobil Holding SE 58.01812990084909\n",
      "Barry Callebaut AG 58.81450409056184\n",
      "Marks and Spencer Group PLC 60.219994405322055\n",
      "J Sainsbury PLC 62.185845148892184\n",
      "Thyssenkrupp AG O.N. 65.10864596128437\n"
     ]
    }
   ],
   "source": [
    "def generate_isin(date, const, sector, mc, financials_util=True, above=True):\n",
    "    if financials_util == 'financials/util':\n",
    "        financials_util = True\n",
    "    if financials_util == 'others':\n",
    "        financials_util = False\n",
    "    if above == 'above':\n",
    "        above = True\n",
    "    if above == 'below':\n",
    "        above = False\n",
    "    isin_values = []\n",
    "    # find isin values matching bucket\n",
    "    for isin in const.get(date, []):\n",
    "        if (str(sector.get(isin, '')).lower() in ['financials', 'utilities']) == financials_util:\n",
    "            isin_values.append(isin)\n",
    "    isin_values.sort(key=lambda x: mc.get(x, {}).get(pd.to_datetime(date), {}).get('market_cap', 0))\n",
    "    # split isin values based on market cap \n",
    "    if above:\n",
    "        return set(isin_values[len(isin_values)//2:])\n",
    "    return set(isin_values[:len(isin_values)//2])\n",
    "\n",
    "for const, sector, mc, esg, market in [(spx_const, spx_sector, spx_mc, spx_esg, 'SPX'), (euro_const, euro_sector, euro_mc, euro_esg, 'EURO')]:\n",
    "    print(f'\\n{market} Analysis\\n')\n",
    "    for p1 in ['financials/util', 'others']: \n",
    "        for p2 in ['above', 'below']:\n",
    "            print('\\n', p1, p2, '\\n')\n",
    "            isins2 = list(generate_isin('2024-04-03', const, sector, mc, financials_util=p1, above=p2))\n",
    "            isins = []\n",
    "            for isin in isins2:\n",
    "                if len(esg.get(isin, {}).get(pd.to_datetime('2024-04-03'), {})):\n",
    "                    isins.append(isin)\n",
    "            isins.sort(key=lambda x: esg[x][pd.to_datetime('2024-04-03')]['esg_score'])\n",
    "            print('Companies with Top 5 ESG score: ')\n",
    "            for isin in isins[:5]:\n",
    "                try:\n",
    "                    print(investpy.stocks.search_stocks(by='isin', value=isin).full_name[0], esg[isin][pd.to_datetime('2024-04-03')]['esg_score'])\n",
    "                except Exception:\n",
    "                    print(isin, esg[isin][pd.to_datetime('2024-04-03')]['esg_score'])\n",
    "            \n",
    "            print('\\nCompanies with Bottom ESG score: ')\n",
    "            for isin in isins[-5:]:\n",
    "                try:\n",
    "                    print(investpy.stocks.search_stocks(by='isin', value=isin).full_name[0], esg[isin][pd.to_datetime('2024-04-03')]['esg_score'])\n",
    "                except Exception:\n",
    "                    print(isin, esg[isin][pd.to_datetime('2024-04-03')]['esg_score'])"
   ]
  },
  {
   "cell_type": "code",
   "execution_count": null,
   "id": "1c936cfe-4157-4c70-bb05-45baa815fab0",
   "metadata": {},
   "outputs": [],
   "source": [
    "for const, esg, dates, market in [(spx_const, spx_esg, weekly_dates_spx, 'SPX'), (euro_const, euro_esg, weekly_dates_euro, 'EURO')]:\n",
    "    counts = {'e': [], 's': [], 'g': [], 'es': [], 'eg': [], 'sg': [], 'esg': [], 'z': [], 'na': []}\n",
    "    \n",
    "    for date in tqdm(dates):\n",
    "        e, s, g, es, eg, sg, esg, z, na = 0, 0, 0, 0, 0, 0, 0, 0, 0\n",
    "        date = date.strftime('%Y-%m-%d')\n",
    "        for isin in const.get(date , []):\n",
    "            if esg.get(isin, {}).get(pd.to_datetime(date), -1) == -1:\n",
    "                na += 1\n",
    "            elif esg[isin][pd.to_datetime(date)]['environment'] > 0 and esg[isin][pd.to_datetime(date)]['social'] > 0 and esg[isin][pd.to_datetime(date)]['government'] > 0:\n",
    "                esg += 1\n",
    "            elif esg[isin][pd.to_datetime(date)]['environment'] > 0 and esg[isin][pd.to_datetime(date)]['social'] > 0:\n",
    "                es += 1\n",
    "            elif esg[isin][pd.to_datetime(date)]['environment'] > 0 and esg[isin][pd.to_datetime(date)]['government'] > 0:\n",
    "                eg += 1\n",
    "            elif esg[isin][pd.to_datetime(date)]['government'] > 0 and esg[isin][pd.to_datetime(date)]['social'] > 0:\n",
    "                sg += 1\n",
    "            elif esg[isin][pd.to_datetime(date)]['government'] > 0:\n",
    "                g += 1\n",
    "            elif esg[isin][pd.to_datetime(date)]['social'] > 0:\n",
    "                s += 1\n",
    "            elif esg[isin][pd.to_datetime(date)]['environment'] > 0:\n",
    "                e += 1\n",
    "            else:\n",
    "                z += 1\n",
    "        counts['e'].append(e)\n",
    "        counts['s'].append(s)\n",
    "        counts['g'].append(g)\n",
    "        counts['es'].append(es)\n",
    "        counts['eg'].append(eg)\n",
    "        counts['sg'].append(sg)\n",
    "        counts['esg'].append(esg)\n",
    "        counts['z'].append(z)\n",
    "        counts['na'].append(na)\n",
    "    \n",
    "    counts = pd.DataFrame(counts)\n",
    "    \n",
    "    fig = px.bar(counts[['e', 's', 'g', 'es', 'sg', 'eg', 'esg', 'z', 'na']], title=f'{market} Counts')\n",
    "    \n",
    "    fig.update_layout(\n",
    "        template='plotly_dark',\n",
    "        title_font=dict(size=24, color='white'),\n",
    "        xaxis=dict(\n",
    "            title='Category',\n",
    "            titlefont=dict(size=18, color='white'),\n",
    "            tickfont=dict(size=14, color='white')\n",
    "        ),\n",
    "        yaxis=dict(\n",
    "            title='Values',\n",
    "            titlefont=dict(size=18, color='white'),\n",
    "            tickfont=dict(size=14, color='white')\n",
    "        )\n",
    "    )\n",
    "    fig.show()\n",
    "    fig.write_html(f\"{market}_counts.html\")"
   ]
  },
  {
   "cell_type": "code",
   "execution_count": null,
   "id": "1f40d170-ecde-4b28-a2a4-569f277fa373",
   "metadata": {},
   "outputs": [],
   "source": [
    "# Counts of each group/sector in the S&P / EURO for a given date\n",
    "count = {\n",
    "        'spx_financials/utilities_above_meet_esg': [],\n",
    "        'spx_financials/utilities_above_not_esg': [],\n",
    "        'spx_financials/utilities_below_meet_esg': [],\n",
    "        'spx_financials/utilities_below_not_esg': [],\n",
    "        'spx_other_above_meet_esg': [],\n",
    "        'spx_other_above_not_esg': [],\n",
    "        'spx_other_below_meet_esg': [],\n",
    "        'spx_other_below_not_esg': [],\n",
    "        'euro_financials/utilities_above_meet_esg': [],\n",
    "        'euro_financials/utilities_above_not_esg': [],\n",
    "        'euro_financials/utilities_below_meet_esg': [],\n",
    "        'euro_financials/utilities_below_not_esg': [],\n",
    "        'euro_other_above_meet_esg': [],\n",
    "        'euro_other_above_not_esg': [],\n",
    "        'euro_other_below_meet_esg': [],\n",
    "        'euro_other_below_not_esg': [],\n",
    "        }\n",
    "\n",
    "# all isins in S&P500 for given date\n",
    "def generate_isin_euro(date, financials=True, above=True):\n",
    "    isin_values = set()\n",
    "    for isin in euro_const.get(date, []):\n",
    "        if euro_sector.get(isin, '') in ['Financials', 'Utilities']:\n",
    "            if financials:\n",
    "                isin_values.add(isin)\n",
    "        else:\n",
    "            if not financials:\n",
    "                isin_values.add(isin)\n",
    "    mc = [0]\n",
    "    for isin in isin_values:\n",
    "        if euro_mc.get(isin, {}).get(pd.to_datetime(date), {}).get('market_cap', 0) > 0:\n",
    "            mc.append(euro_mc[isin][pd.to_datetime(date)]['market_cap'])\n",
    "    mc.sort()\n",
    "    threshold = mc[len(mc)//2]\n",
    "    good_isin = set()\n",
    "    for isin in isin_values:\n",
    "        if above:\n",
    "            if euro_mc.get(isin, {}).get(pd.to_datetime(date), {}).get('market_cap', 0) > threshold:\n",
    "                good_isin.add(isin)\n",
    "        else:\n",
    "            if euro_mc.get(isin, {}).get(pd.to_datetime(date), {}).get('market_cap', 0) <= threshold:\n",
    "                good_isin.add(isin)\n",
    "    return good_isin\n",
    "\n",
    "def generate_isin_spx(date, financials=True, above=True):\n",
    "    isin_values = set()\n",
    "    for isin in spx_const.get(date, []):\n",
    "        if spx_sector.get(isin, '') in ['financials', 'utilities']:\n",
    "            if financials:\n",
    "                isin_values.add(isin)\n",
    "        else:\n",
    "            if not financials:\n",
    "                isin_values.add(isin)\n",
    "    mc = [0]\n",
    "    for isin in isin_values:\n",
    "        if spx_mc.get(isin, {}).get(pd.to_datetime(date), {}).get('market_cap', 0) > 0:\n",
    "            mc.append(spx_mc[isin][pd.to_datetime(date)]['market_cap'])\n",
    "    mc.sort()\n",
    "    threshold = mc[len(mc)//2]\n",
    "    good_isin = set()\n",
    "    for isin in isin_values:\n",
    "        if above:\n",
    "            if spx_mc.get(isin, {}).get(pd.to_datetime(date), {}).get('market_cap', 0) > threshold:\n",
    "                good_isin.add(isin)\n",
    "        else:\n",
    "            if spx_mc.get(isin, {}).get(pd.to_datetime(date), {}).get('market_cap', 0) <= threshold:\n",
    "                good_isin.add(isin)\n",
    "    return good_isin\n",
    "\n",
    "dates = []\n",
    "\n",
    "for i in tqdm(range(len(datelist))):\n",
    "    # parse current date\n",
    "    date = datelist[i].strftime('%Y-%m-%d') \n",
    "    dates.append(date)\n",
    "    date2 = pd.to_datetime(date)\n",
    "\n",
    "    for p1 in [True, False]:\n",
    "        for p2 in [True, False]:\n",
    "            isins = generate_isin_euro(date, p1, p2)\n",
    "            meet_esg = 0\n",
    "            not_esg = 0\n",
    "            for isin in isins:\n",
    "                if not len(euro_esg.get(isin, [])):\n",
    "                        continue\n",
    "                if not len(euro_esg[isin].get(date2, [])): # if no data ignore\n",
    "                    continue\n",
    "                elif (euro_esg[isin][date2][metric] > THRESHOLD): # if esg metric is greater than threshold add it to non esg portfolios\n",
    "                    not_esg += 1\n",
    "                elif (0 < euro_esg[isin][date2][metric] <= THRESHOLD): # if esg metric is greater than threshold add it to non esg portfolios\n",
    "                    meet_esg += 1\n",
    "            if p1 and p2:\n",
    "                count['euro_financials/utilities_above_meet_esg'].append(meet_esg)\n",
    "                count['euro_financials/utilities_above_not_esg'].append(not_esg)\n",
    "            if p1 and not p2:\n",
    "                count['euro_financials/utilities_below_meet_esg'].append(meet_esg)\n",
    "                count[ 'euro_financials/utilities_below_not_esg'].append(not_esg)\n",
    "            if not p1 and p2:\n",
    "                count['euro_other_above_meet_esg'].append(meet_esg)\n",
    "                count['euro_other_above_not_esg'].append(not_esg)\n",
    "            if not p1 and not p2:\n",
    "                count['euro_other_below_meet_esg'].append(meet_esg)\n",
    "                count['euro_other_below_not_esg'].append(not_esg)\n",
    "                \n",
    "    for p1 in [True, False]:\n",
    "        for p2 in [True, False]:\n",
    "            isins = generate_isin_spx(date, p1, p2)\n",
    "            meet_esg = 0\n",
    "            not_esg = 0\n",
    "            for isin in isins:\n",
    "                if not len(spx_esg.get(isin, [])):\n",
    "                        continue\n",
    "                if not len(spx_esg[isin].get(date2, [])): # if no data ignore\n",
    "                    continue\n",
    "                elif (spx_esg[isin][date2][metric] > THRESHOLD): # if esg metric is greater than threshold add it to non esg portfolios\n",
    "                    not_esg += 1\n",
    "                elif (0 < spx_esg[isin][date2][metric] <= THRESHOLD): # if esg metric is greater than threshold add it to non esg portfolios\n",
    "                    meet_esg += 1\n",
    "            if p1 and p2:\n",
    "                count['spx_financials/utilities_above_meet_esg'].append(meet_esg)\n",
    "                count['spx_financials/utilities_above_not_esg'].append(not_esg)\n",
    "            if p1 and not p2:\n",
    "                count['spx_financials/utilities_below_meet_esg'].append(meet_esg)\n",
    "                count['spx_financials/utilities_below_not_esg'].append(not_esg)\n",
    "            if not p1 and p2:\n",
    "                count['spx_other_above_meet_esg'].append(meet_esg)\n",
    "                count['spx_other_above_not_esg'].append(not_esg)\n",
    "            if not p1 and not p2:\n",
    "                count['spx_other_below_meet_esg'].append(meet_esg)\n",
    "                count['spx_other_below_not_esg'].append(not_esg)\n",
    "\n",
    "counts = pd.DataFrame(count)\n",
    "counts['date'] = dates\n",
    "counts.set_index('date', inplace=True)\n",
    "\n",
    "counts.to_csv('grouping_counts.csv')"
   ]
  },
  {
   "cell_type": "code",
   "execution_count": null,
   "id": "f0f68657-db1c-4d5b-8fa3-5fc24c1a97da",
   "metadata": {},
   "outputs": [],
   "source": [
    "fig = px.bar(counts[['spx_financials/utilities_above_meet_esg', 'spx_financials/utilities_above_not_esg', 'spx_financials/utilities_below_meet_esg', 'spx_financials/utilities_below_not_esg', 'spx_other_above_meet_esg', 'spx_other_above_not_esg', 'spx_other_below_meet_esg', 'spx_other_below_not_esg']], title='SPX Counts')\n",
    "\n",
    "fig.update_layout(\n",
    "    template='plotly_dark',\n",
    "    title_font=dict(size=24, color='white'),\n",
    "    xaxis=dict(\n",
    "        title='Category',\n",
    "        titlefont=dict(size=18, color='white'),\n",
    "        tickfont=dict(size=14, color='white')\n",
    "    ),\n",
    "    yaxis=dict(\n",
    "        title='Values',\n",
    "        titlefont=dict(size=18, color='white'),\n",
    "        tickfont=dict(size=14, color='white')\n",
    "    )\n",
    ")\n",
    "fig.show()\n",
    "fig.write_html(\"spx_counts_groupings.html\")"
   ]
  },
  {
   "cell_type": "code",
   "execution_count": null,
   "id": "8a48b8a9-9bfd-4c26-acc3-4ea6d7685861",
   "metadata": {},
   "outputs": [],
   "source": [
    "fig = px.bar(counts[['euro_financials/utilities_above_meet_esg', 'euro_financials/utilities_above_not_esg', 'euro_financials/utilities_below_meet_esg', 'euro_financials/utilities_below_not_esg', 'euro_other_above_meet_esg', 'euro_other_above_not_esg', 'euro_other_below_meet_esg', 'euro_other_below_not_esg']], title='Euro Counts')\n",
    "\n",
    "fig.update_layout(\n",
    "    template='plotly_dark',\n",
    "    title_font=dict(size=24, color='white'),\n",
    "    xaxis=dict(\n",
    "        title='Category',\n",
    "        titlefont=dict(size=18, color='white'),\n",
    "        tickfont=dict(size=14, color='white')\n",
    "    ),\n",
    "    yaxis=dict(\n",
    "        title='Values',\n",
    "        titlefont=dict(size=18, color='white'),\n",
    "        tickfont=dict(size=14, color='white')\n",
    "    )\n",
    ")\n",
    "fig.show()\n",
    "fig.write_html(\"euro_counts_groupings.html\")"
   ]
  }
 ],
 "metadata": {
  "kernelspec": {
   "display_name": "Python 3 (ipykernel)",
   "language": "python",
   "name": "python3"
  },
  "language_info": {
   "codemirror_mode": {
    "name": "ipython",
    "version": 3
   },
   "file_extension": ".py",
   "mimetype": "text/x-python",
   "name": "python",
   "nbconvert_exporter": "python",
   "pygments_lexer": "ipython3",
   "version": "3.10.11"
  }
 },
 "nbformat": 4,
 "nbformat_minor": 5
}
