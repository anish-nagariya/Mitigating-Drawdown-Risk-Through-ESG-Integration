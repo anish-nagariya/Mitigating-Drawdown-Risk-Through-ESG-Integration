{
 "cells": [
  {
   "cell_type": "markdown",
   "id": "fe956ca4-4077-4ae2-a1fa-09c9c8f1f47d",
   "metadata": {},
   "source": [
    "## ESG Simulations using RRI"
   ]
  },
  {
   "cell_type": "code",
   "execution_count": 426,
   "id": "fc778146-2dae-426e-ae93-92e1bd52f208",
   "metadata": {},
   "outputs": [],
   "source": [
    "# ESG Threshold\n",
    "# THRESHOLD = 35\n",
    "# ESG Percentile\n",
    "PERCENTILE = 0.5\n",
    "THRESHOLD = 40\n",
    "\n",
    "# metrics looked at \n",
    "METRICS = ['esg_score', 'environment', 'social', 'government']\n",
    "\n",
    "# meet_esg - companies meeting esg criteria and RRI not zero\n",
    "# not_esg - companies not meeting esg criteria and RRI not zero\n",
    "# not_esg_zero - not_esg + companies with rri of 0\n",
    "OPTIONS = ['meet_esg', 'not_esg', 'not_esg_zero', 'benchmark']\n",
    "\n",
    "\n",
    "def liquidate(port, price, x, d):\n",
    "    if len(port[x]['holdings']):\n",
    "        prices = pd.Series([price[isin][price[isin]['date'] <= d].iloc[-1]['close'] for isin in port[x]['holdings'].index])\n",
    "        prices.index = port[x]['holdings'].index\n",
    "        port[x]['account_value'] = sum(prices * port[x]['holdings'])\n",
    "    port[x]['history'].append(port[x]['account_value']) \n",
    "    return port\n",
    "\n",
    "\n",
    "def allocate_holdings(portfolios, d, x, sector, df, metric, above, threshold, weighting):\n",
    "    if sector == 'others': sector = 'other'\n",
    "    group = df.loc[d][(df.loc[d]['sector'] == sector)]\n",
    "    if above == 'above':\n",
    "        group = group[group['mc'] > group['mc'].median()]\n",
    "    else:\n",
    "        group = group[group['mc'] <= group['mc'].median()]\n",
    "    if threshold == 'threshold':\n",
    "        if x == 'meet_esg':\n",
    "            group = group[(group[metric] < THRESHOLD) & (group[metric] > 0)]\n",
    "        elif x == 'not_esg':\n",
    "            group = group[group[metric] >= THRESHOLD]\n",
    "        elif x == 'not_esg_zero':\n",
    "            group = group[(group[metric] >= THRESHOLD) | (group[metric] == 0)]\n",
    "    else:\n",
    "        if x == 'meet_esg':\n",
    "            group = group[(0 < group[metric]) & (group[metric] < group[metric].quantile())]\n",
    "        elif x == 'not_esg':\n",
    "            group = group[group[metric] >= group[metric].quantile()]\n",
    "        elif x == 'not_esg_zero':\n",
    "            group = group[(group[metric] >= group[metric].quantile()) | (group[metric] == 0)]\n",
    "    if weighting == 'marketcap':\n",
    "        if len(group) == 0:\n",
    "            portfolios[x]['holdings'] = pd.Series([])\n",
    "            return portfolios\n",
    "        tmc = sum(group['mc'] * group['freefloat'])\n",
    "        portfolios[x]['holdings'] = portfolios[x]['account_value'] * (group['mc'] * group['freefloat'] / group['price'])/tmc\n",
    "    else:\n",
    "        if len(group) == 0:\n",
    "            portfolios[x]['holdings'] = pd.Series([])\n",
    "            return portfolios\n",
    "        portfolios[x]['holdings'] = portfolios[x]['account_value']/len(group)/group['price']\n",
    "    return portfolios\n",
    "\n",
    "\n",
    "def simulate(datelist, price, df, name, frame, cutoff='threshold', allocate='equal'):        \n",
    "    # simulate for each metric (rri, e, s, g, cc)\n",
    "    for p1 in ['financials/util', 'others']: \n",
    "        for p2 in ['above', 'below']:\n",
    "            for metric in METRICS: \n",
    "                portfolios = {x: {'account_value': 100000, 'holdings': {}, 'history': []} for x in OPTIONS}\n",
    "                for date in tqdm(datelist):\n",
    "                    for x in OPTIONS:\n",
    "                        portfolios = liquidate(portfolios, price, x, date)\n",
    "                        portfolios = allocate_holdings(portfolios, date, x, p1, df, metric, p2, cutoff, allocate)\n",
    "                        \n",
    "                # sell everything at the end\n",
    "                for x in OPTIONS:\n",
    "                    portfolios = liquidate(portfolios, price, x, date)\n",
    "                    portfolios[x]['history'] = portfolios[x]['history'][1:]\n",
    "                    title = f'{name}/{metric}/{x}/{p1}/{p2}/{frame}/{allocate}/{cutoff}'\n",
    "                    returns[frame][title] = portfolios[x]['history']\n",
    "                print(f\"{name}/{metric}/{p1}/{p2}/{frame}/{allocate}/{cutoff}\") \n",
    "                    \n",
    "                # Calculate Portfolio Returns\n",
    "                def portfolioMetrics(history, frame):\n",
    "                    if frame == 'Yearly':\n",
    "                        DIV = 1\n",
    "                    elif frame == 'Quarterly':\n",
    "                        DIV = 4\n",
    "                    elif frame == 'Monthly':\n",
    "                        DIV = 12\n",
    "                    elif frame == 'Weekly':\n",
    "                        DIV = 52\n",
    "                    annual_return = (history[-1]/history[0])**(1/(len(history)/DIV)) - 1\n",
    "                    annual_std = np.array([(history[i] - history[i - 1])/history[i - 1] for i in range(1, len(history))]).std() * np.sqrt(DIV)\n",
    "                    print(f\"Average Return (Per Annum): {rd(((history[-1]/history[0])**(1/len(history)))**DIV)}\")\n",
    "                    print(f\"Final Value: {rd(history[-1])}\\n\")\n",
    "                \n",
    "                # Display Metrics\n",
    "                print(\"\\n\\033[4mESG Portfolio Metrics\\033[0m\")\n",
    "                portfolioMetrics(portfolios['meet_esg']['history'], frame)\n",
    "                print(\"\\n\\033[4mNon-ESG Portfolio Metrics\\033[0m\")\n",
    "                portfolioMetrics(portfolios['not_esg']['history'], frame)\n",
    "                print(\"\\n\\033[4mNon-ESG/0-RRI Portfolio Metrics\\033[0m\")\n",
    "                portfolioMetrics(portfolios['not_esg_zero']['history'], frame)\n",
    "                print(\"\\n\\033[4mBenchmark Portfolio Metrics\\033[0m\")\n",
    "                portfolioMetrics(portfolios['benchmark']['history'], frame)\n",
    "                fig = make_subplots()\n",
    "                fig.add_trace(go.Scatter(x=datelist, y=portfolios['benchmark']['history'], mode='lines', name='benchmark'))\n",
    "                fig.add_trace(go.Scatter(x=datelist, y=portfolios['meet_esg']['history'], mode='lines', name='meet_esg'))\n",
    "                fig.add_trace(go.Scatter(x=datelist, y=portfolios['not_esg']['history'], mode='lines', name='not_esg'))\n",
    "                fig.add_trace(go.Scatter(x=datelist, y=portfolios['not_esg_zero']['history'], mode='lines', name='not esg and zero'))\n",
    "                fig.update_layout(\n",
    "                    title=f'Portfolio Performance of ESG Threshold at 35 ({metric})',\n",
    "                    xaxis_title='Date',\n",
    "                    yaxis_title='Portfolio Value',\n",
    "                    legend_title='Portfolios',\n",
    "                    template='plotly_dark', # Set dark theme\n",
    "                    xaxis=dict(tickangle=-45) \n",
    "                )\n",
    "                fig.show()"
   ]
  },
  {
   "cell_type": "code",
   "execution_count": null,
   "id": "27b21ada-03d6-4751-a7b4-d093ddd28e58",
   "metadata": {
    "scrolled": true
   },
   "outputs": [
    {
     "name": "stderr",
     "output_type": "stream",
     "text": [
      " 67%|█████████████████████████████████████████████████████▊                          | 492/731 [01:34<00:47,  5.02it/s]"
     ]
    }
   ],
   "source": [
    "%%time\n",
    "for dates, t in [(quarterly_dates_spx, 'Quarterly'), (monthly_dates_spx, 'Monthly'), (weekly_dates_spx, 'Weekly')]:\n",
    "    for alloc in ['marketcap', 'equal']:\n",
    "        for cuto in ['threshold', 'percentile']:\n",
    "            simulate(dates, spx_price, spx_df, 'SPX/normal', t, cuto, alloc)"
   ]
  },
  {
   "cell_type": "code",
   "execution_count": null,
   "id": "2b719f1f-818c-4d73-a9fd-b86cb57fa493",
   "metadata": {
    "scrolled": true
   },
   "outputs": [],
   "source": [
    "for dates, t in [(quarterly_dates_euro, 'Quarterly'), (monthly_dates_euro, 'Monthly'), (weekly_dates_euro, 'Weekly')]:\n",
    "    for alloc in ['marketcap', 'equal']:\n",
    "        for cuto in ['threshold', 'percentile']:\n",
    "            simulate(dates, euro_price, euro_df, 'EURO/normal', t, cuto, alloc)"
   ]
  },
  {
   "cell_type": "markdown",
   "id": "bc1e3ce7-dc26-4b7b-a7ce-1a5694bc6995",
   "metadata": {},
   "source": [
    "## ESG Simulations using Trend RRI"
   ]
  },
  {
   "cell_type": "code",
   "execution_count": null,
   "id": "c0cb1316-02be-4b0a-806e-e3da0db9e682",
   "metadata": {},
   "outputs": [],
   "source": []
  }
 ],
 "metadata": {
  "kernelspec": {
   "display_name": "Python 3 (ipykernel)",
   "language": "python",
   "name": "python3"
  },
  "language_info": {
   "codemirror_mode": {
    "name": "ipython",
    "version": 3
   },
   "file_extension": ".py",
   "mimetype": "text/x-python",
   "name": "python",
   "nbconvert_exporter": "python",
   "pygments_lexer": "ipython3",
   "version": "3.10.11"
  }
 },
 "nbformat": 4,
 "nbformat_minor": 5
}
